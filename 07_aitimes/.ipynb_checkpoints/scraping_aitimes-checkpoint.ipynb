{
 "cells": [
  {
   "cell_type": "markdown",
   "id": "d76ece4f",
   "metadata": {},
   "source": [
    "### AI 타임스 크롤링하기"
   ]
  },
  {
   "cell_type": "code",
   "execution_count": 10,
   "id": "ddaa6017",
   "metadata": {},
   "outputs": [],
   "source": [
    "from selenium import webdriver\n",
    "from selenium.webdriver.chrome.options import Options\n",
    "from selenium.webdriver.chrome.service import Service as ChromeService\n",
    "from webdriver_manager.chrome import ChromeDriverManager\n",
    "from selenium.webdriver.common.by import By\n",
    "import time"
   ]
  },
  {
   "cell_type": "code",
   "execution_count": 11,
   "id": "5b1fe13f",
   "metadata": {},
   "outputs": [],
   "source": [
    "def chromeWebdriver():\n",
    "    chrome_service = ChromeService(executable_path=ChromeDriverManager().install())\n",
    "    options = Options()\n",
    "    options.add_experimental_option('detach', True)\n",
    "    options.add_experimental_option('excludeSwitches', ['enable-looging'])\n",
    "    \n",
    "    driver = webdriver.Chrome(service=chrome_service, options=options)\n",
    "    \n",
    "    return driver"
   ]
  },
  {
   "cell_type": "code",
   "execution_count": 12,
   "id": "3abd05ad",
   "metadata": {},
   "outputs": [
    {
     "name": "stdout",
     "output_type": "stream",
     "text": [
      "\n"
     ]
    }
   ],
   "source": [
    "driver = chromeWebdriver()\n",
    "driver.get(\"http://www.aitimes.com/news/articleList.html\")"
   ]
  },
  {
   "cell_type": "code",
   "execution_count": null,
   "id": "fd63dd82",
   "metadata": {},
   "outputs": [],
   "source": [
    "time.sleep(1)"
   ]
  },
  {
   "cell_type": "code",
   "execution_count": null,
   "id": "e5aee48d",
   "metadata": {},
   "outputs": [],
   "source": [
    "#검색창 클릭\n",
    "search = driver.find_element(By.CSS_SELECTOR, ' ')\n",
    "search.click()"
   ]
  },
  {
   "cell_type": "code",
   "execution_count": null,
   "id": "7d5ff379",
   "metadata": {},
   "outputs": [],
   "source": [
    "#검색어 입력\n",
    "search.send_keys('AICC')\n",
    "search.send_keys(Keys.ENTER)"
   ]
  },
  {
   "cell_type": "markdown",
   "id": "95d729cd",
   "metadata": {},
   "source": [
    "### 내용 가져오기"
   ]
  },
  {
   "cell_type": "code",
   "execution_count": 122,
   "id": "846f9412",
   "metadata": {},
   "outputs": [
    {
     "name": "stdout",
     "output_type": "stream",
     "text": [
      "[<selenium.webdriver.remote.webelement.WebElement (session=\"8661dad65a6c00e6396f23baf9056d99\", element=\"9a6341be-ab7e-4eaa-ba6b-702113c88459\")>]\n"
     ]
    }
   ],
   "source": [
    "items = driver.find_elements(By.ID, \"section-list\")\n",
    "print(items)"
   ]
  },
  {
   "cell_type": "code",
   "execution_count": 125,
   "id": "a5184d2d",
   "metadata": {},
   "outputs": [
    {
     "name": "stdout",
     "output_type": "stream",
     "text": [
      "<selenium.webdriver.remote.webelement.WebElement (session=\"8661dad65a6c00e6396f23baf9056d99\", element=\"9a6341be-ab7e-4eaa-ba6b-702113c88459\")>\n"
     ]
    }
   ],
   "source": [
    "print(items[0])"
   ]
  },
  {
   "cell_type": "code",
   "execution_count": 123,
   "id": "2f5dbbc5",
   "metadata": {},
   "outputs": [
    {
     "name": "stdout",
     "output_type": "stream",
     "text": [
      "[AI 주간브리핑] AI가 내린 결과 설명하려면 기존 머신러닝 이론 탈피해야\n",
      "이미지기사\n",
      "김동원 기자의 Eye-T 김동원 기자 05.29 12:14\n",
      "SKT에 이어 KT도...초거대 AI 속도 높이는 통신사\n",
      "이미지기사\n",
      "산업 김동원 기자 05.23 17:19\n",
      "MWC2022에 '한국판 AI·메타버스' 떴다\n",
      "이미지기사\n",
      "산업 김동원 기자 03.02 18:38\n",
      "카카오엔터프라이즈, 기업용 AI 음성 인식-변환 모델 '커스텀 STT' 공개\n",
      "이미지기사\n",
      "보도자료 김미정 기자 01.25 18:06\n",
      "인공지능 강국, 민관이 함께 만든다...초거대 AI 생태계 구축·AI 반도체 개발 논의\n",
      "이미지기사\n",
      "정책 김동원 기자 01.19 18:18\n",
      "KT-신한은행 'DX 동맹 체결'...AI·메타버스·로봇·NFT 협력 강화\n",
      "이미지기사\n",
      "보도자료 김동원 기자 01.17 17:20\n",
      "[CES 2022] 솔트룩스, 메타휴먼 ‘에린’ 공개…글로벌 인기몰이\n",
      "이미지기사\n",
      "CES 2022 구아현 기자 01.06 17:34\n",
      "통신3사, 2022년 신사업 속도 높인다...AI·메타버스·UAM 등 손에 쥔 카드 다양\n",
      "이미지기사\n",
      "산업 김미정 기자 01.03 17:56\n",
      "[CES 2022] \"韓 AI 기술력 알린다\"…솔트룩스·나무기술·세이프웨어, 출격 채비\n",
      "이미지기사\n",
      "CES 2022 유형동 기자 01.05 09:32\n",
      "[LG CNS AI DAY 2021] \"미래형 AICC센터, 고객 응대시간 단축에 주력한다\"\n",
      "이미지기사\n",
      "산업 이하나 기자 2021.11.27 14:45\n",
      "대화형 AI 상장사 솔트룩스, 올해 3분기 매출 역대 최대\n",
      "이미지기사\n",
      "산업 박성은 기자 2021.11.18 18:59\n",
      "KT, 'AI 통화비서' 확장 전략 발표…'KT 인터넷 서비스 먹통'으로 빛바래\n",
      "이미지기사\n",
      "테크 이하나 기자 2021.10.26 07:55\n",
      "KT-현대백화점 그룹, AI 활용 유통·물류 분야 디지털혁신 추진\n",
      "이미지기사\n",
      "산업 김동원 기자 2021.08.26 13:32\n",
      "KT, AI원팀과 함께 '초거대 AI' 만든다...ETRI, KAIST, 한양대와 협약 체결\n",
      "이미지기사\n",
      "산업 이하나 기자 2021.08.18 18:13\n",
      "통신 3사, 5G·신사업 날개 달고 2분기 이익 1조 돌파...하반기 AI 적용 확대 승부수\n",
      "이미지기사\n",
      "산업 김동원 기자 2021.08.12 11:47\n",
      "\"자동차 파손되면 AI가 수리 비용 알려준다\"...삼성SDS가 개발한 AI 활용 기술은?\n",
      "이미지기사\n",
      "산업 김동원 기자 2021.06.23 17:20\n",
      "KT, 기업 DX 방안 'AICC 기술' 제안…AI 콜센터 도입한 결과는?\n",
      "이미지기사\n",
      "테크 이하나 기자 2021.06.18 08:07\n",
      "KT와 아마존, 전략적 협력 관계 강화한다...AI,클라우드에서 미디어까지\n",
      "이미지기사\n",
      "산업 이하나 기자 2021.06.09 18:12\n",
      "삼성SDS, AI 기반 컨택센터 솔루션 'AICC' 사업 강화\n",
      "이미지기사\n",
      "산업 김동원 기자 2021.05.09 16:18\n",
      "KT ‘디지코’ 이뤄낸다, AI 인재 1000명 양성 프로젝트 가동\n",
      "이미지기사\n",
      "산업 장희수 기자 2021.01.11 16:27\n"
     ]
    }
   ],
   "source": [
    "print(items[0].text)"
   ]
  },
  {
   "cell_type": "code",
   "execution_count": 142,
   "id": "92e73219",
   "metadata": {},
   "outputs": [
    {
     "name": "stdout",
     "output_type": "stream",
     "text": [
      "[AI 주간브리핑] AI가 내린 결과 설명하려면 기존 머신러닝 이론 탈피해야 김동원 기자의 Eye-T 05.29 12:14\n",
      "SKT에 이어 KT도...초거대 AI 속도 높이는 통신사 산업 05.23 17:19\n",
      "MWC2022에 '한국판 AI·메타버스' 떴다 산업 03.02 18:38\n",
      "카카오엔터프라이즈, 기업용 AI 음성 인식-변환 모델 '커스텀 STT' 공개 보도자료 01.25 18:06\n",
      "인공지능 강국, 민관이 함께 만든다...초거대 AI 생태계 구축·AI 반도체 개발 논의 정책 01.19 18:18\n",
      "KT-신한은행 'DX 동맹 체결'...AI·메타버스·로봇·NFT 협력 강화 보도자료 01.17 17:20\n",
      "[CES 2022] 솔트룩스, 메타휴먼 ‘에린’ 공개…글로벌 인기몰이 CES 2022 01.06 17:34\n",
      "통신3사, 2022년 신사업 속도 높인다...AI·메타버스·UAM 등 손에 쥔 카드 다양 산업 01.03 17:56\n",
      "[CES 2022] \"韓 AI 기술력 알린다\"…솔트룩스·나무기술·세이프웨어, 출격 채비 CES 2022 01.05 09:32\n",
      "[LG CNS AI DAY 2021] \"미래형 AICC센터, 고객 응대시간 단축에 주력한다\" 산업 2021.11.27 14:45\n",
      "대화형 AI 상장사 솔트룩스, 올해 3분기 매출 역대 최대 산업 2021.11.18 18:59\n",
      "KT, 'AI 통화비서' 확장 전략 발표…'KT 인터넷 서비스 먹통'으로 빛바래 테크 2021.10.26 07:55\n",
      "KT-현대백화점 그룹, AI 활용 유통·물류 분야 디지털혁신 추진 산업 2021.08.26 13:32\n",
      "KT, AI원팀과 함께 '초거대 AI' 만든다...ETRI, KAIST, 한양대와 협약 체결 산업 2021.08.18 18:13\n",
      "통신 3사, 5G·신사업 날개 달고 2분기 이익 1조 돌파...하반기 AI 적용 확대 승부수 산업 2021.08.12 11:47\n",
      "\"자동차 파손되면 AI가 수리 비용 알려준다\"...삼성SDS가 개발한 AI 활용 기술은? 산업 2021.06.23 17:20\n",
      "KT, 기업 DX 방안 'AICC 기술' 제안…AI 콜센터 도입한 결과는? 테크 2021.06.18 08:07\n",
      "KT와 아마존, 전략적 협력 관계 강화한다...AI,클라우드에서 미디어까지 산업 2021.06.09 18:12\n",
      "삼성SDS, AI 기반 컨택센터 솔루션 'AICC' 사업 강화 산업 2021.05.09 16:18\n",
      "KT ‘디지코’ 이뤄낸다, AI 인재 1000명 양성 프로젝트 가동 산업 2021.01.11 16:27\n",
      "KT·LG 뭉친 'AI원팀', 첫 연구성과 공개…삼성·SKT·카카오 'AI 협의체'와 '선의의 경쟁' 주목 산업 2021.01.07 18:01\n",
      "KT, KMAC와 스마트 컨택센터 사업 협력 산업 2020.07.02 15:15\n",
      "  \n"
     ]
    }
   ],
   "source": [
    "import csv\n",
    "\n",
    "f = open(r'/Users/공용/Documents/GitHub/webpage_scraping/07_aitimes/data.csv', 'w', encoding='CP949', newline='')# 파일 생성\n",
    "cswriter = csv.writer(f)\n",
    "\n",
    "items = driver.find_elements(By.ID, \"sections\")\n",
    "for item in items:\n",
    "    list = item.find_elements(By.CSS_SELECTOR, \"li\")\n",
    "    for l in list:\n",
    "        title = l.find_element(By.CLASS_NAME, \"titles\").text\n",
    "        category = l.find_element(By.CLASS_NAME, \"category\").text\n",
    "        date = l.find_element(By.CLASS_NAME, \"dated\").text\n",
    "        print(title, category, date)\n",
    "        cswriter.writerow([title, category, date])\n",
    "    f.close()"
   ]
  },
  {
   "cell_type": "code",
   "execution_count": null,
   "id": "ff4575b5",
   "metadata": {},
   "outputs": [],
   "source": []
  },
  {
   "cell_type": "code",
   "execution_count": null,
   "id": "d2e16860",
   "metadata": {},
   "outputs": [],
   "source": []
  },
  {
   "cell_type": "code",
   "execution_count": null,
   "id": "fab79e97",
   "metadata": {},
   "outputs": [],
   "source": [
    "# 뒤로 가기\n",
    "driver.back()"
   ]
  }
 ],
 "metadata": {
  "kernelspec": {
   "display_name": "Python 3 (ipykernel)",
   "language": "python",
   "name": "python3"
  },
  "language_info": {
   "codemirror_mode": {
    "name": "ipython",
    "version": 3
   },
   "file_extension": ".py",
   "mimetype": "text/x-python",
   "name": "python",
   "nbconvert_exporter": "python",
   "pygments_lexer": "ipython3",
   "version": "3.9.12"
  }
 },
 "nbformat": 4,
 "nbformat_minor": 5
}
