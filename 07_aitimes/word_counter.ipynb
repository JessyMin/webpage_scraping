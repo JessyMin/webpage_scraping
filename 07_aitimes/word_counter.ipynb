{
 "cells": [
  {
   "cell_type": "code",
   "execution_count": 2,
   "id": "4e165f1a",
   "metadata": {},
   "outputs": [],
   "source": [
    "import pandas as pd"
   ]
  },
  {
   "cell_type": "code",
   "execution_count": 1,
   "id": "f1e74440",
   "metadata": {},
   "outputs": [],
   "source": [
    "from konlpy.tag import Okt\n",
    "from konlpy.tag import Komoran\n",
    "from collections import Counter\n",
    "\n",
    "okt = Okt()\n",
    "komoran = Komoran()"
   ]
  },
  {
   "cell_type": "code",
   "execution_count": 46,
   "id": "514e55c8",
   "metadata": {},
   "outputs": [],
   "source": [
    "no = [1, 2, 3, 4, 5]\n",
    "title = [\"프롭테크 카카오 T 앱, 유럽 진출한다...9월부터 독일서 로밍 서비스 시작\", \"아틀라스랩스 AI 음성인식, 실제 상담원처럼 대화 내용 분석까지 해야\", \"네이버, 노코드 AI로 '모두와 함께하는 초거대 AI' 생태계 실현\", \"카카오가 만든 초거대 AI, 삼성 갤럭시 북에 들어간다\", \"네이버, 인천재능대와 협력해 초대규모 AI 인재 양성\"]"
   ]
  },
  {
   "cell_type": "code",
   "execution_count": 101,
   "id": "be0d5447",
   "metadata": {},
   "outputs": [
    {
     "data": {
      "text/html": [
       "<div>\n",
       "<style scoped>\n",
       "    .dataframe tbody tr th:only-of-type {\n",
       "        vertical-align: middle;\n",
       "    }\n",
       "\n",
       "    .dataframe tbody tr th {\n",
       "        vertical-align: top;\n",
       "    }\n",
       "\n",
       "    .dataframe thead th {\n",
       "        text-align: right;\n",
       "    }\n",
       "</style>\n",
       "<table border=\"1\" class=\"dataframe\">\n",
       "  <thead>\n",
       "    <tr style=\"text-align: right;\">\n",
       "      <th></th>\n",
       "      <th>no</th>\n",
       "      <th>title</th>\n",
       "    </tr>\n",
       "  </thead>\n",
       "  <tbody>\n",
       "    <tr>\n",
       "      <th>0</th>\n",
       "      <td>1</td>\n",
       "      <td>프롭테크 카카오 T 앱, 유럽 진출한다...9월부터 독일서 로밍 서비스 시작</td>\n",
       "    </tr>\n",
       "    <tr>\n",
       "      <th>1</th>\n",
       "      <td>2</td>\n",
       "      <td>아틀라스랩스 AI 음성인식, 실제 상담원처럼 대화 내용 분석까지 해야</td>\n",
       "    </tr>\n",
       "    <tr>\n",
       "      <th>2</th>\n",
       "      <td>3</td>\n",
       "      <td>네이버, 노코드 AI로 '모두와 함께하는 초거대 AI' 생태계 실현</td>\n",
       "    </tr>\n",
       "    <tr>\n",
       "      <th>3</th>\n",
       "      <td>4</td>\n",
       "      <td>카카오가 만든 초거대 AI, 삼성 갤럭시 북에 들어간다</td>\n",
       "    </tr>\n",
       "    <tr>\n",
       "      <th>4</th>\n",
       "      <td>5</td>\n",
       "      <td>네이버, 인천재능대와 협력해 초대규모 AI 인재 양성</td>\n",
       "    </tr>\n",
       "  </tbody>\n",
       "</table>\n",
       "</div>"
      ],
      "text/plain": [
       "   no                                       title\n",
       "0   1  프롭테크 카카오 T 앱, 유럽 진출한다...9월부터 독일서 로밍 서비스 시작\n",
       "1   2      아틀라스랩스 AI 음성인식, 실제 상담원처럼 대화 내용 분석까지 해야\n",
       "2   3       네이버, 노코드 AI로 '모두와 함께하는 초거대 AI' 생태계 실현\n",
       "3   4              카카오가 만든 초거대 AI, 삼성 갤럭시 북에 들어간다\n",
       "4   5               네이버, 인천재능대와 협력해 초대규모 AI 인재 양성"
      ]
     },
     "execution_count": 101,
     "metadata": {},
     "output_type": "execute_result"
    }
   ],
   "source": [
    "df = pd.DataFrame(list(zip(no, title)), columns=['no','title'])\n",
    "df.head()"
   ]
  },
  {
   "cell_type": "code",
   "execution_count": 102,
   "id": "d811d357",
   "metadata": {},
   "outputs": [
    {
     "data": {
      "text/html": [
       "<div>\n",
       "<style scoped>\n",
       "    .dataframe tbody tr th:only-of-type {\n",
       "        vertical-align: middle;\n",
       "    }\n",
       "\n",
       "    .dataframe tbody tr th {\n",
       "        vertical-align: top;\n",
       "    }\n",
       "\n",
       "    .dataframe thead th {\n",
       "        text-align: right;\n",
       "    }\n",
       "</style>\n",
       "<table border=\"1\" class=\"dataframe\">\n",
       "  <thead>\n",
       "    <tr style=\"text-align: right;\">\n",
       "      <th></th>\n",
       "      <th>no</th>\n",
       "      <th>title</th>\n",
       "      <th>pos</th>\n",
       "      <th>pos2</th>\n",
       "      <th>noun</th>\n",
       "    </tr>\n",
       "  </thead>\n",
       "  <tbody>\n",
       "    <tr>\n",
       "      <th>0</th>\n",
       "      <td>1</td>\n",
       "      <td>프롭테크 카카오 T 앱, 유럽 진출한다...9월부터 독일서 로밍 서비스 시작</td>\n",
       "      <td>[(프롭테크, NA), (카카오, NNP), (T, SL), (앱,, NA), (유...</td>\n",
       "      <td>[프롭테크/NA, 카카오/NNP, T/SL, 앱,/NA, 유럽/NNP, 진출/NNG...</td>\n",
       "      <td>[카카오, 유럽, 진출, 9월, 독일, 로밍, 서비스, 시작]</td>\n",
       "    </tr>\n",
       "    <tr>\n",
       "      <th>1</th>\n",
       "      <td>2</td>\n",
       "      <td>아틀라스랩스 AI 음성인식, 실제 상담원처럼 대화 내용 분석까지 해야</td>\n",
       "      <td>[(아틀라스랩스, NA), (AI, SL), (음성, NNP), (인식, NNP),...</td>\n",
       "      <td>[아틀라스랩스/NA, AI/SL, 음성/NNP, 인식/NNP, ,/SP, 실제/NN...</td>\n",
       "      <td>[음성, 인식, 실제, 상담원, 대화, 내용, 분석]</td>\n",
       "    </tr>\n",
       "    <tr>\n",
       "      <th>2</th>\n",
       "      <td>3</td>\n",
       "      <td>네이버, 노코드 AI로 '모두와 함께하는 초거대 AI' 생태계 실현</td>\n",
       "      <td>[(네이버, NNP), (,, SP), (노, NNP), (코드, NNP), (AI...</td>\n",
       "      <td>[네이버/NNP, ,/SP, 노/NNP, 코드/NNP, AI/SL, 로/JKB, '...</td>\n",
       "      <td>[네이버, 노, 코드, 모두, 생태계, 실현]</td>\n",
       "    </tr>\n",
       "    <tr>\n",
       "      <th>3</th>\n",
       "      <td>4</td>\n",
       "      <td>카카오가 만든 초거대 AI, 삼성 갤럭시 북에 들어간다</td>\n",
       "      <td>[(카카오, NNP), (가, JKS), (만들, VV), (ㄴ, ETM), (초,...</td>\n",
       "      <td>[카카오/NNP, 가/JKS, 만들/VV, ㄴ/ETM, 초/XPN, 거대/XR, A...</td>\n",
       "      <td>[카카오, 삼성 갤럭시, 북]</td>\n",
       "    </tr>\n",
       "    <tr>\n",
       "      <th>4</th>\n",
       "      <td>5</td>\n",
       "      <td>네이버, 인천재능대와 협력해 초대규모 AI 인재 양성</td>\n",
       "      <td>[(네이버, NNP), (,, SP), (인천, NNP), (재능, NNG), (대...</td>\n",
       "      <td>[네이버/NNP, ,/SP, 인천/NNP, 재능/NNG, 대/XSN, 와/JC, 협...</td>\n",
       "      <td>[네이버, 인천, 재능, 협력, 초대, 규모, 인재, 양성]</td>\n",
       "    </tr>\n",
       "  </tbody>\n",
       "</table>\n",
       "</div>"
      ],
      "text/plain": [
       "   no                                       title  \\\n",
       "0   1  프롭테크 카카오 T 앱, 유럽 진출한다...9월부터 독일서 로밍 서비스 시작   \n",
       "1   2      아틀라스랩스 AI 음성인식, 실제 상담원처럼 대화 내용 분석까지 해야   \n",
       "2   3       네이버, 노코드 AI로 '모두와 함께하는 초거대 AI' 생태계 실현   \n",
       "3   4              카카오가 만든 초거대 AI, 삼성 갤럭시 북에 들어간다   \n",
       "4   5               네이버, 인천재능대와 협력해 초대규모 AI 인재 양성   \n",
       "\n",
       "                                                 pos  \\\n",
       "0  [(프롭테크, NA), (카카오, NNP), (T, SL), (앱,, NA), (유...   \n",
       "1  [(아틀라스랩스, NA), (AI, SL), (음성, NNP), (인식, NNP),...   \n",
       "2  [(네이버, NNP), (,, SP), (노, NNP), (코드, NNP), (AI...   \n",
       "3  [(카카오, NNP), (가, JKS), (만들, VV), (ㄴ, ETM), (초,...   \n",
       "4  [(네이버, NNP), (,, SP), (인천, NNP), (재능, NNG), (대...   \n",
       "\n",
       "                                                pos2  \\\n",
       "0  [프롭테크/NA, 카카오/NNP, T/SL, 앱,/NA, 유럽/NNP, 진출/NNG...   \n",
       "1  [아틀라스랩스/NA, AI/SL, 음성/NNP, 인식/NNP, ,/SP, 실제/NN...   \n",
       "2  [네이버/NNP, ,/SP, 노/NNP, 코드/NNP, AI/SL, 로/JKB, '...   \n",
       "3  [카카오/NNP, 가/JKS, 만들/VV, ㄴ/ETM, 초/XPN, 거대/XR, A...   \n",
       "4  [네이버/NNP, ,/SP, 인천/NNP, 재능/NNG, 대/XSN, 와/JC, 협...   \n",
       "\n",
       "                                 noun  \n",
       "0  [카카오, 유럽, 진출, 9월, 독일, 로밍, 서비스, 시작]  \n",
       "1       [음성, 인식, 실제, 상담원, 대화, 내용, 분석]  \n",
       "2           [네이버, 노, 코드, 모두, 생태계, 실현]  \n",
       "3                    [카카오, 삼성 갤럭시, 북]  \n",
       "4   [네이버, 인천, 재능, 협력, 초대, 규모, 인재, 양성]  "
      ]
     },
     "execution_count": 102,
     "metadata": {},
     "output_type": "execute_result"
    }
   ],
   "source": [
    "df['pos'] = df['title'].apply(lambda x: komoran.pos(x))\n",
    "df['pos2'] = df['title'].apply(lambda x: komoran.pos(x, join=True))\n",
    "df['noun'] = df['title'].apply(lambda x: komoran.nouns(x))\n",
    "df.head()"
   ]
  },
  {
   "cell_type": "code",
   "execution_count": 103,
   "id": "84f2ad2b",
   "metadata": {},
   "outputs": [
    {
     "data": {
      "text/plain": [
       "0    None\n",
       "1    None\n",
       "2    None\n",
       "3    None\n",
       "4    None\n",
       "Name: pos2, dtype: object"
      ]
     },
     "execution_count": 103,
     "metadata": {},
     "output_type": "execute_result"
    }
   ],
   "source": [
    "nouns = []\n",
    "df['noun'].apply(lambda x: nouns.append(x))\n",
    "\n",
    "pos = []\n",
    "df['pos'].apply(lambda x: pos.append(x))\n",
    "\n",
    "pos2 = []\n",
    "df['pos2'].apply(lambda x: pos2.append(x))"
   ]
  },
  {
   "cell_type": "code",
   "execution_count": 92,
   "id": "e2be5572",
   "metadata": {},
   "outputs": [
    {
     "data": {
      "text/plain": [
       "[['카카오', '유럽', '진출', '9월', '독일', '로밍', '서비스', '시작'],\n",
       " ['음성', '인식', '실제', '상담원', '대화', '내용', '분석'],\n",
       " ['네이버', '노', '코드', '모두', '생태계', '실현'],\n",
       " ['카카오', '삼성 갤럭시', '북'],\n",
       " ['네이버', '인천', '재능', '협력', '초대', '규모', '인재', '양성']]"
      ]
     },
     "execution_count": 92,
     "metadata": {},
     "output_type": "execute_result"
    }
   ],
   "source": [
    "nouns"
   ]
  },
  {
   "cell_type": "code",
   "execution_count": 18,
   "id": "d6a349c5",
   "metadata": {},
   "outputs": [
    {
     "data": {
      "text/plain": [
       "['카카오',\n",
       " '유럽',\n",
       " '진출',\n",
       " '9월',\n",
       " '독일',\n",
       " '로밍',\n",
       " '서비스',\n",
       " '시작',\n",
       " '음성',\n",
       " '인식',\n",
       " '실제',\n",
       " '상담원',\n",
       " '대화',\n",
       " '내용',\n",
       " '분석',\n",
       " '네이버',\n",
       " '노',\n",
       " '코드',\n",
       " '모두',\n",
       " '생태계',\n",
       " '실현']"
      ]
     },
     "execution_count": 18,
     "metadata": {},
     "output_type": "execute_result"
    }
   ],
   "source": [
    "# 중첩리스트를 flatten하기\n",
    "# 참고 : https://blog.winterjung.dev/2017/04/21/list-of-lists-to-flatten\n",
    "nouns = sum(nouns, [])\n",
    "nouns"
   ]
  },
  {
   "cell_type": "code",
   "execution_count": 105,
   "id": "0ad1f7d8",
   "metadata": {},
   "outputs": [
    {
     "name": "stdout",
     "output_type": "stream",
     "text": [
      "['프롭테크/NA', '카카오/NNP', 'T/SL', '앱,/NA', '유럽/NNP', '진출/NNG', '하/XSV', 'ㄴ다/EC', '.../SE', '9월/NNP', '부터/JX', '독일/NNP', '서/JKB', '로밍/NNP', '서비스/NNG', '시작/NNG', '아틀라스랩스/NA', 'AI/SL', '음성/NNP', '인식/NNP', ',/SP', '실제/NNG', '상담원/NNG', '처럼/JKB', '대화/NNG', '내용/NNG', '분석/NNG', '까지/JX', '하/VV', '아야/EC', '네이버/NNP', ',/SP', '노/NNP', '코드/NNP', 'AI/SL', '로/JKB', \"'/SS\", '모두/NNG', '와/JC', '함께/MAG', '하/XSV', '는/ETM', '초/XPN', '거대/XR', 'AI/SL', \"'/SS\", '생태계/NNP', '실현/NNG', '카카오/NNP', '가/JKS', '만들/VV', 'ㄴ/ETM', '초/XPN', '거대/XR', 'AI/SL', ',/SP', '삼성 갤럭시/NNP', '북/NNP', '에/JKB', '들어가/VV', 'ㄴ다/EC', '네이버/NNP', ',/SP', '인천/NNP', '재능/NNG', '대/XSN', '와/JC', '협력/NNG', '하/XSV', '아/EC', '초대/NNG', '규모/NNG', 'AI/SL', '인재/NNG', '양성/NNP']\n"
     ]
    }
   ],
   "source": [
    "nouns = [y for x in nouns for y in x]\n",
    "pos = [y for x in pos for y in x]\n",
    "pos2 = [y for x in pos2 for y in x]\n",
    "print(pos2)"
   ]
  },
  {
   "cell_type": "code",
   "execution_count": 106,
   "id": "0d799d6e",
   "metadata": {},
   "outputs": [
    {
     "name": "stdout",
     "output_type": "stream",
     "text": [
      "('카카오', 2)\n",
      "('네이버', 2)\n",
      "('유럽', 1)\n",
      "('진출', 1)\n",
      "('9월', 1)\n",
      "('독일', 1)\n",
      "('로밍', 1)\n",
      "('서비스', 1)\n",
      "('시작', 1)\n",
      "('음성', 1)\n"
     ]
    }
   ],
   "source": [
    "count = Counter(nouns)\n",
    "\n",
    "top_nouns = count.most_common(10)\n",
    "\n",
    "for n in top_nouns:\n",
    "    print(n)"
   ]
  },
  {
   "cell_type": "code",
   "execution_count": 107,
   "id": "514cd5a4",
   "metadata": {},
   "outputs": [
    {
     "name": "stdout",
     "output_type": "stream",
     "text": [
      "['프롭테크/NA', '카카오/NNP', 'T/SL', '앱,/NA', '유럽/NNP', '진출/NNG', '하/XSV', 'ㄴ다/EC', '.../SE', '9월/NNP', '부터/JX', '독일/NNP', '서/JKB', '로밍/NNP', '서비스/NNG', '시작/NNG', '아틀라스랩스/NA', 'AI/SL', '음성/NNP', '인식/NNP', ',/SP', '실제/NNG', '상담원/NNG', '처럼/JKB', '대화/NNG', '내용/NNG', '분석/NNG', '까지/JX', '하/VV', '아야/EC', '네이버/NNP', ',/SP', '노/NNP', '코드/NNP', 'AI/SL', '로/JKB', \"'/SS\", '모두/NNG', '와/JC', '함께/MAG', '하/XSV', '는/ETM', '초/XPN', '거대/XR', 'AI/SL', \"'/SS\", '생태계/NNP', '실현/NNG', '카카오/NNP', '가/JKS', '만들/VV', 'ㄴ/ETM', '초/XPN', '거대/XR', 'AI/SL', ',/SP', '삼성 갤럭시/NNP', '북/NNP', '에/JKB', '들어가/VV', 'ㄴ다/EC', '네이버/NNP', ',/SP', '인천/NNP', '재능/NNG', '대/XSN', '와/JC', '협력/NNG', '하/XSV', '아/EC', '초대/NNG', '규모/NNG', 'AI/SL', '인재/NNG', '양성/NNP']\n"
     ]
    }
   ],
   "source": [
    "print(pos2)"
   ]
  },
  {
   "cell_type": "code",
   "execution_count": 110,
   "id": "1d4ac053",
   "metadata": {},
   "outputs": [
    {
     "name": "stdout",
     "output_type": "stream",
     "text": [
      "['프롭테크/NA', '카카오/NNP', '앱,/NA', '유럽/NNP', '진출/NNG', '9월/NNP', '독일/NNP', '로밍/NNP', '서비스/NNG', '시작/NNG', '아틀라스랩스/NA', '음성/NNP', '인식/NNP', '실제/NNG', '상담원/NNG', '대화/NNG', '내용/NNG', '분석/NNG', '네이버/NNP', '노/NNP', '코드/NNP', '모두/NNG', '생태계/NNP', '실현/NNG', '카카오/NNP', '삼성 갤럭시/NNP', '북/NNP', '네이버/NNP', '인천/NNP', '재능/NNG', '협력/NNG', '초대/NNG', '규모/NNG', '인재/NNG', '양성/NNP']\n"
     ]
    }
   ],
   "source": [
    "word = []\n",
    "for i in pos2:\n",
    "    if \"/N\" in i:\n",
    "        word.append(i)\n",
    " \n",
    "print(word)"
   ]
  },
  {
   "cell_type": "code",
   "execution_count": 111,
   "id": "1c4e70c7",
   "metadata": {},
   "outputs": [
    {
     "name": "stdout",
     "output_type": "stream",
     "text": [
      "('카카오/NNP', 2)\n",
      "('네이버/NNP', 2)\n",
      "('프롭테크/NA', 1)\n",
      "('앱,/NA', 1)\n",
      "('유럽/NNP', 1)\n",
      "('진출/NNG', 1)\n",
      "('9월/NNP', 1)\n",
      "('독일/NNP', 1)\n",
      "('로밍/NNP', 1)\n",
      "('서비스/NNG', 1)\n",
      "('시작/NNG', 1)\n",
      "('아틀라스랩스/NA', 1)\n",
      "('음성/NNP', 1)\n",
      "('인식/NNP', 1)\n",
      "('실제/NNG', 1)\n",
      "('상담원/NNG', 1)\n",
      "('대화/NNG', 1)\n",
      "('내용/NNG', 1)\n",
      "('분석/NNG', 1)\n",
      "('노/NNP', 1)\n",
      "('코드/NNP', 1)\n",
      "('모두/NNG', 1)\n",
      "('생태계/NNP', 1)\n",
      "('실현/NNG', 1)\n",
      "('삼성 갤럭시/NNP', 1)\n",
      "('북/NNP', 1)\n",
      "('인천/NNP', 1)\n",
      "('재능/NNG', 1)\n",
      "('협력/NNG', 1)\n",
      "('초대/NNG', 1)\n",
      "('규모/NNG', 1)\n",
      "('인재/NNG', 1)\n",
      "('양성/NNP', 1)\n"
     ]
    }
   ],
   "source": [
    "count = Counter(word)\n",
    "\n",
    "top_word = count.most_common(100)\n",
    "\n",
    "for n in top_word:\n",
    "    print(n)\n"
   ]
  },
  {
   "cell_type": "code",
   "execution_count": 113,
   "id": "35c2bcae",
   "metadata": {},
   "outputs": [
    {
     "data": {
      "text/html": [
       "<div>\n",
       "<style scoped>\n",
       "    .dataframe tbody tr th:only-of-type {\n",
       "        vertical-align: middle;\n",
       "    }\n",
       "\n",
       "    .dataframe tbody tr th {\n",
       "        vertical-align: top;\n",
       "    }\n",
       "\n",
       "    .dataframe thead th {\n",
       "        text-align: right;\n",
       "    }\n",
       "</style>\n",
       "<table border=\"1\" class=\"dataframe\">\n",
       "  <thead>\n",
       "    <tr style=\"text-align: right;\">\n",
       "      <th></th>\n",
       "      <th>keyword</th>\n",
       "      <th>count</th>\n",
       "    </tr>\n",
       "  </thead>\n",
       "  <tbody>\n",
       "    <tr>\n",
       "      <th>0</th>\n",
       "      <td>카카오/NNP</td>\n",
       "      <td>2</td>\n",
       "    </tr>\n",
       "    <tr>\n",
       "      <th>1</th>\n",
       "      <td>네이버/NNP</td>\n",
       "      <td>2</td>\n",
       "    </tr>\n",
       "    <tr>\n",
       "      <th>2</th>\n",
       "      <td>프롭테크/NA</td>\n",
       "      <td>1</td>\n",
       "    </tr>\n",
       "    <tr>\n",
       "      <th>3</th>\n",
       "      <td>앱,/NA</td>\n",
       "      <td>1</td>\n",
       "    </tr>\n",
       "    <tr>\n",
       "      <th>4</th>\n",
       "      <td>유럽/NNP</td>\n",
       "      <td>1</td>\n",
       "    </tr>\n",
       "    <tr>\n",
       "      <th>5</th>\n",
       "      <td>진출/NNG</td>\n",
       "      <td>1</td>\n",
       "    </tr>\n",
       "    <tr>\n",
       "      <th>6</th>\n",
       "      <td>9월/NNP</td>\n",
       "      <td>1</td>\n",
       "    </tr>\n",
       "    <tr>\n",
       "      <th>7</th>\n",
       "      <td>독일/NNP</td>\n",
       "      <td>1</td>\n",
       "    </tr>\n",
       "    <tr>\n",
       "      <th>8</th>\n",
       "      <td>로밍/NNP</td>\n",
       "      <td>1</td>\n",
       "    </tr>\n",
       "    <tr>\n",
       "      <th>9</th>\n",
       "      <td>서비스/NNG</td>\n",
       "      <td>1</td>\n",
       "    </tr>\n",
       "    <tr>\n",
       "      <th>10</th>\n",
       "      <td>시작/NNG</td>\n",
       "      <td>1</td>\n",
       "    </tr>\n",
       "    <tr>\n",
       "      <th>11</th>\n",
       "      <td>아틀라스랩스/NA</td>\n",
       "      <td>1</td>\n",
       "    </tr>\n",
       "    <tr>\n",
       "      <th>12</th>\n",
       "      <td>음성/NNP</td>\n",
       "      <td>1</td>\n",
       "    </tr>\n",
       "    <tr>\n",
       "      <th>13</th>\n",
       "      <td>인식/NNP</td>\n",
       "      <td>1</td>\n",
       "    </tr>\n",
       "    <tr>\n",
       "      <th>14</th>\n",
       "      <td>실제/NNG</td>\n",
       "      <td>1</td>\n",
       "    </tr>\n",
       "    <tr>\n",
       "      <th>15</th>\n",
       "      <td>상담원/NNG</td>\n",
       "      <td>1</td>\n",
       "    </tr>\n",
       "    <tr>\n",
       "      <th>16</th>\n",
       "      <td>대화/NNG</td>\n",
       "      <td>1</td>\n",
       "    </tr>\n",
       "    <tr>\n",
       "      <th>17</th>\n",
       "      <td>내용/NNG</td>\n",
       "      <td>1</td>\n",
       "    </tr>\n",
       "    <tr>\n",
       "      <th>18</th>\n",
       "      <td>분석/NNG</td>\n",
       "      <td>1</td>\n",
       "    </tr>\n",
       "    <tr>\n",
       "      <th>19</th>\n",
       "      <td>노/NNP</td>\n",
       "      <td>1</td>\n",
       "    </tr>\n",
       "  </tbody>\n",
       "</table>\n",
       "</div>"
      ],
      "text/plain": [
       "      keyword  count\n",
       "0     카카오/NNP      2\n",
       "1     네이버/NNP      2\n",
       "2     프롭테크/NA      1\n",
       "3       앱,/NA      1\n",
       "4      유럽/NNP      1\n",
       "5      진출/NNG      1\n",
       "6      9월/NNP      1\n",
       "7      독일/NNP      1\n",
       "8      로밍/NNP      1\n",
       "9     서비스/NNG      1\n",
       "10     시작/NNG      1\n",
       "11  아틀라스랩스/NA      1\n",
       "12     음성/NNP      1\n",
       "13     인식/NNP      1\n",
       "14     실제/NNG      1\n",
       "15    상담원/NNG      1\n",
       "16     대화/NNG      1\n",
       "17     내용/NNG      1\n",
       "18     분석/NNG      1\n",
       "19      노/NNP      1"
      ]
     },
     "execution_count": 113,
     "metadata": {},
     "output_type": "execute_result"
    }
   ],
   "source": [
    "count = Counter(word)\n",
    "\n",
    "top_word = count.most_common(100)\n",
    "\n",
    "keyword = []\n",
    "keyword_pos = []\n",
    "count = []\n",
    "\n",
    "for n in top_word:\n",
    "    keyword.append(n[0])\n",
    "    count.append(n[1])\n",
    "\n",
    "df = pd.DataFrame(list(zip(keyword, count)), columns=['keyword','count'])\n",
    "df.head(20)"
   ]
  }
 ],
 "metadata": {
  "kernelspec": {
   "display_name": "Python 3 (ipykernel)",
   "language": "python",
   "name": "python3"
  },
  "language_info": {
   "codemirror_mode": {
    "name": "ipython",
    "version": 3
   },
   "file_extension": ".py",
   "mimetype": "text/x-python",
   "name": "python",
   "nbconvert_exporter": "python",
   "pygments_lexer": "ipython3",
   "version": "3.9.12"
  }
 },
 "nbformat": 4,
 "nbformat_minor": 5
}
