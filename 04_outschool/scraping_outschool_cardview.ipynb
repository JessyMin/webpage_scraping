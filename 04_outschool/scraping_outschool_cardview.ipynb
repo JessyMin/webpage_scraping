{
 "cells": [
  {
   "cell_type": "code",
   "execution_count": 1,
   "metadata": {},
   "outputs": [],
   "source": [
    "from selenium import webdriver\n",
    "from selenium.webdriver.common.keys import Keys\n",
    "from bs4 import BeautifulSoup\n",
    "import pandas as pd\n",
    "import time"
   ]
  },
  {
   "cell_type": "code",
   "execution_count": 45,
   "metadata": {},
   "outputs": [],
   "source": [
    "# 크롬 브라우저를 열기\n",
    "\n",
    "DRIVER_DIR = '../driver/chromedriver'\n",
    "driver = webdriver.Chrome(DRIVER_DIR)"
   ]
  },
  {
   "cell_type": "markdown",
   "metadata": {},
   "source": [
    "## 특정 카테고리 내에서 크롤링하기 : div단위로 가져오기"
   ]
  },
  {
   "cell_type": "code",
   "execution_count": 189,
   "metadata": {},
   "outputs": [],
   "source": [
    "# url 접속하기\n",
    "\n",
    "url = \"https://outschool.com/online-classes\"\n",
    "#url = \"https://outschool.com/online-classes/coding-tech\"\n",
    "driver.get(url)"
   ]
  },
  {
   "cell_type": "code",
   "execution_count": null,
   "metadata": {},
   "outputs": [],
   "source": [
    "# 전체 페이지를 가져오기 \n",
    "\n",
    "html = driver.page_source\n",
    "bsObject = BeautifulSoup(html, 'lxml')"
   ]
  },
  {
   "cell_type": "code",
   "execution_count": 121,
   "metadata": {},
   "outputs": [
    {
     "name": "stdout",
     "output_type": "stream",
     "text": [
      "['311\\nPlay the Stock Market Investing Game! Beginners- Learn...\\nAges 9-13', '204\\nHow To Make Awesome Animated Movies (Intro to Animation)\\nAges 10-15', '141\\nBeginner Reading-From Phonics to Fluency\\nAges 5-8', '143\\nFlexible Schedule: Smartest Artists: Art Class With A...\\nAges 4-9', '261\\nMetrocraft: Our Class Creates and Governs a Minecraft City!\\nAges 9-13', '269\\nSTEM CL1D: Electrical Circuits Level 1 - Learn with Snap...\\nAges 6-9', '171\\nBeginning Multiplication Facts Made Easy!\\nAges 8-9', '226\\nForensic Science\\nAges 11-16', '98\\nBlack History From a Decolonized Perspective (African...\\nAges 9-14', '427\\nLearn to Debate - Introductory Argumentation in 5 Classes\\nAges 9-14', '531\\nElementary Explorers: Rocks, Fossils, and Crystals\\nAges 5-8', '453\\nPersonal Responsibility: Owning Behaviors to Earn Freedom\\nAges 10-15', '159\\nMiddle School Speech & Debate Camp I (Beginners)\\nAges 10-15', '336\\nIntroduction to Veterinary / Vet Medicine. (8-12 Years)\\nAges 8-12', '177\\nUnderstanding Automotive Cars and Trucks #1 - Powertrain,...\\nAges 9-14', '179\\nHacking Web Games: An Introduction to Javascript and Coding\\nAges 10-15', '113\\nCake Decorating: Beautiful Buttercream Flex\\nAges 10-15', '201\\nIntro to Architecture Camp: Designing Modern Architecture...\\nAges 9-13', '48\\nPython Programming for Beginners - Flex Edition - 12...\\nAges 9-14', '108\\nIntroduction to Piano Fundamentals\\nAges 6-11', '34\\nEarth and Space Science (Semester- Live!)\\nAges 11-15', '292\\nMinecraft + Architecture History = AWESOME! (FLEX /...\\nAges 9-14', '49\\nCollege Preparation Writing for High School--Semester I\\nAges 14-18', '121\\nIntroduction to Mindfulness for Kids\\nAges 6-9', '199\\nUkulele Boot Camp for Beginners Part 1\\nAges 7-12', '1108\\nDescendants #4 Mashup - Themed Dance Class (Ages 6-9)\\nAges 6-9', '114\\nAmerican Girl Writing & Acting 5-Day Class (Truly Me-Themed)\\nAges 7-12', '89\\nHow To Make A Video Game (Intro to Game Design) [Ages 10-15]\\nAges 10-15', '230\\nHow Money Works - Understanding Money - Credit Cards -...\\nAges 9-14', '85\\nRobotics Using Microbit - Beginner Class - Hands on!...\\nAges 10-15', '335\\nMastering the Five Paragraph Essay - Middle School Pt.1\\nAges 11-15', '16\\nDescendants and Zombies Dance Class- Beginner Level...\\nAges 6-9', '671\\nLlama Paint -A -Long With Ms. Muse (Muse Art Studio)...\\nAges 8-13', '241\\nLevel 1! Rock Out Beginners. Learn Incredible Acoustic &...\\nAges 10-15', '33\\nGuided Reading Growth: Small Group Tutoring for Beginning...\\nAges 5-8', '128\\nCool, Creative Writing\\nAges 9-12']\n",
      "['$18/class', '$40/class', '$23/class', '$7/week', '$22/class', '$20/class', '$19/class', '$13/class', '$18/class', '$25/class', '$14/class', '$33/class', '$16/class', '$17/class', '$20/class', '$49/class', '$20/week', '$15/class', '$21/week', '$13/class', '$15/class', '$12/week', '$25/class', '$41/class', '$25/class', '$16/class', '$42/class', '$36/class', '$47/class', '$20/class', '$20/class', '$16/class', '$22/class', '$20/class', '$21/class', '$14/class']\n"
     ]
    }
   ],
   "source": [
    "# 셀레니움으로 가져오기\n",
    "\n",
    "# 가격 가져오기\n",
    "price_raw = []\n",
    "prices = driver.find_elements_by_class_name('css-13vx15s')\n",
    "for p in prices:\n",
    "    price_raw.append(p.text)\n",
    "\n",
    "# 리뷰 / 타이틀 / 나이 가져오기\n",
    "data = []\n",
    "\n",
    "datas = driver.find_elements_by_class_name('css-67ekna-Flex')\n",
    "\n",
    "for d in datas:\n",
    "    data.append(d.text)\n",
    "    \n",
    "print(data)\n",
    "print(price)\n",
    "\n"
   ]
  },
  {
   "cell_type": "code",
   "execution_count": 131,
   "metadata": {
    "scrolled": false
   },
   "outputs": [
    {
     "data": {
      "text/html": [
       "<div>\n",
       "<style scoped>\n",
       "    .dataframe tbody tr th:only-of-type {\n",
       "        vertical-align: middle;\n",
       "    }\n",
       "\n",
       "    .dataframe tbody tr th {\n",
       "        vertical-align: top;\n",
       "    }\n",
       "\n",
       "    .dataframe thead th {\n",
       "        text-align: right;\n",
       "    }\n",
       "</style>\n",
       "<table border=\"1\" class=\"dataframe\">\n",
       "  <thead>\n",
       "    <tr style=\"text-align: right;\">\n",
       "      <th></th>\n",
       "      <th>price_raw</th>\n",
       "      <th>data</th>\n",
       "    </tr>\n",
       "  </thead>\n",
       "  <tbody>\n",
       "    <tr>\n",
       "      <th>0</th>\n",
       "      <td>$18/class</td>\n",
       "      <td>311\\nPlay the Stock Market Investing Game! Beg...</td>\n",
       "    </tr>\n",
       "    <tr>\n",
       "      <th>1</th>\n",
       "      <td>$40/class</td>\n",
       "      <td>204\\nHow To Make Awesome Animated Movies (Intr...</td>\n",
       "    </tr>\n",
       "    <tr>\n",
       "      <th>2</th>\n",
       "      <td>$23/class</td>\n",
       "      <td>141\\nBeginner Reading-From Phonics to Fluency\\...</td>\n",
       "    </tr>\n",
       "    <tr>\n",
       "      <th>3</th>\n",
       "      <td>$7/week</td>\n",
       "      <td>143\\nFlexible Schedule: Smartest Artists: Art ...</td>\n",
       "    </tr>\n",
       "    <tr>\n",
       "      <th>4</th>\n",
       "      <td>$22/class</td>\n",
       "      <td>261\\nMetrocraft: Our Class Creates and Governs...</td>\n",
       "    </tr>\n",
       "    <tr>\n",
       "      <th>5</th>\n",
       "      <td>$20/class</td>\n",
       "      <td>269\\nSTEM CL1D: Electrical Circuits Level 1 - ...</td>\n",
       "    </tr>\n",
       "    <tr>\n",
       "      <th>6</th>\n",
       "      <td>$19/class</td>\n",
       "      <td>171\\nBeginning Multiplication Facts Made Easy!...</td>\n",
       "    </tr>\n",
       "    <tr>\n",
       "      <th>7</th>\n",
       "      <td>$13/class</td>\n",
       "      <td>226\\nForensic Science\\nAges 11-16</td>\n",
       "    </tr>\n",
       "    <tr>\n",
       "      <th>8</th>\n",
       "      <td>$18/class</td>\n",
       "      <td>98\\nBlack History From a Decolonized Perspecti...</td>\n",
       "    </tr>\n",
       "    <tr>\n",
       "      <th>9</th>\n",
       "      <td>$25/class</td>\n",
       "      <td>427\\nLearn to Debate - Introductory Argumentat...</td>\n",
       "    </tr>\n",
       "  </tbody>\n",
       "</table>\n",
       "</div>"
      ],
      "text/plain": [
       "   price_raw                                               data\n",
       "0  $18/class  311\\nPlay the Stock Market Investing Game! Beg...\n",
       "1  $40/class  204\\nHow To Make Awesome Animated Movies (Intr...\n",
       "2  $23/class  141\\nBeginner Reading-From Phonics to Fluency\\...\n",
       "3    $7/week  143\\nFlexible Schedule: Smartest Artists: Art ...\n",
       "4  $22/class  261\\nMetrocraft: Our Class Creates and Governs...\n",
       "5  $20/class  269\\nSTEM CL1D: Electrical Circuits Level 1 - ...\n",
       "6  $19/class  171\\nBeginning Multiplication Facts Made Easy!...\n",
       "7  $13/class                  226\\nForensic Science\\nAges 11-16\n",
       "8  $18/class  98\\nBlack History From a Decolonized Perspecti...\n",
       "9  $25/class  427\\nLearn to Debate - Introductory Argumentat..."
      ]
     },
     "execution_count": 131,
     "metadata": {},
     "output_type": "execute_result"
    }
   ],
   "source": [
    "# 데이터프레임으로 묶기\n",
    "\n",
    "zippedList = list(zip(price, data))\n",
    "df= pd.DataFrame(zippedList, columns = ['price_raw', 'data'])\n",
    "\n",
    "df.head(10)"
   ]
  },
  {
   "cell_type": "markdown",
   "metadata": {},
   "source": [
    "## 카테고리별 한번씩 들어가서 크롤링하기 / 카드뷰"
   ]
  },
  {
   "cell_type": "code",
   "execution_count": 3,
   "metadata": {},
   "outputs": [],
   "source": [
    "df = pd.DataFrame(columns=['category','price_raw','data'])"
   ]
  },
  {
   "cell_type": "code",
   "execution_count": 6,
   "metadata": {},
   "outputs": [
    {
     "name": "stdout",
     "output_type": "stream",
     "text": [
      "well done\n"
     ]
    }
   ],
   "source": [
    "# 목표 페이지 불러오기\n",
    "index = \"https://outschool.com/online-classes/\" \n",
    "\n",
    "theme_list = [\"arts\"]\n",
    "#theme_list = [\"arts\",\"coding-tech\",\"english\",\"health-wellness\",\"life-skills\",\"math\",\"music\",\"science-nature\", \"social-studies\", \"world-languages\"]\n",
    "\n",
    "\n",
    "\n",
    "for i in theme_list:\n",
    "    url = index + i\n",
    "    driver.get(url)\n",
    "    \n",
    "    n=0\n",
    "    while n <= 1:\n",
    "        driver.execute_script(\"window.scrollTo(0, document.body.scrollHeight);\")\n",
    "        time.sleep(1.5)\n",
    "        n = n+1\n",
    "    \n",
    "        # 페이지 로드를 기다림\n",
    "      \n",
    "    time.sleep(10)\n",
    "\n",
    "    category = []\n",
    "    rank = []\n",
    "    price_raw = []\n",
    "    data = []\n",
    "\n",
    "    # 가격 가져오기\n",
    "    prices = driver.find_elements_by_class_name('css-13vx15s')\n",
    "    for p in prices:\n",
    "        price_raw.append(p.text)\n",
    "\n",
    "    # 리뷰 / 타이틀 / 나이 가져오기\n",
    "    datas = driver.find_elements_by_class_name('css-67ekna-Flex')\n",
    "    for d in datas:\n",
    "        data.append(d.text)\n",
    "            \n",
    "    # 카테고리 가져오기\n",
    "    category_name = driver.find_elements_by_tag_name('h1')[0].text\n",
    "    \n",
    "    for i in range(0,len(data)):\n",
    "        category.append(category_name)\n",
    "    \n",
    "    r = 1\n",
    "    for r in range(0,len(data)):\n",
    "        rank.append(r)\n",
    "        r =+1\n",
    "        \n",
    "    # 데이터프레임으로 변환하기\n",
    "    zippedList = list(zip(category, price_raw, data))\n",
    "    df_n= pd.DataFrame(zippedList, columns = ['category','price_raw', 'data'])\n",
    "    \n",
    "    # 1000개만 짤라서 기존 데이터프레임 뒤에 붙이기\n",
    "    #df_1000 = df_n.loc[:4]\n",
    "    df = pd.concat([df, df_n])\n",
    "    \n",
    "print('well done')"
   ]
  },
  {
   "cell_type": "code",
   "execution_count": 194,
   "metadata": {},
   "outputs": [
    {
     "data": {
      "text/html": [
       "<div>\n",
       "<style scoped>\n",
       "    .dataframe tbody tr th:only-of-type {\n",
       "        vertical-align: middle;\n",
       "    }\n",
       "\n",
       "    .dataframe tbody tr th {\n",
       "        vertical-align: top;\n",
       "    }\n",
       "\n",
       "    .dataframe thead th {\n",
       "        text-align: right;\n",
       "    }\n",
       "</style>\n",
       "<table border=\"1\" class=\"dataframe\">\n",
       "  <thead>\n",
       "    <tr style=\"text-align: right;\">\n",
       "      <th></th>\n",
       "      <th>category</th>\n",
       "      <th>price_raw</th>\n",
       "      <th>data</th>\n",
       "    </tr>\n",
       "  </thead>\n",
       "  <tbody>\n",
       "  </tbody>\n",
       "</table>\n",
       "</div>"
      ],
      "text/plain": [
       "Empty DataFrame\n",
       "Columns: [category, price_raw, data]\n",
       "Index: []"
      ]
     },
     "execution_count": 194,
     "metadata": {},
     "output_type": "execute_result"
    }
   ],
   "source": [
    "df.head()"
   ]
  },
  {
   "cell_type": "code",
   "execution_count": 179,
   "metadata": {},
   "outputs": [
    {
     "data": {
      "text/plain": [
       "Social Studies Classes For Kids       120\n",
       "Coding & Tech Classes For Kids        120\n",
       "Health & Wellness Classes For Kids    120\n",
       "World Languages Classes For Kids      120\n",
       "Music Classes For Kids                120\n",
       "Math Classes For Kids                 108\n",
       "Life Skills Classes For Kids          108\n",
       "English Classes For Kids              108\n",
       "Science & Nature Classes For Kids     108\n",
       "Arts Classes For Kids                 108\n",
       "Name: category, dtype: int64"
      ]
     },
     "execution_count": 179,
     "metadata": {},
     "output_type": "execute_result"
    }
   ],
   "source": [
    "df['category'].value_counts()"
   ]
  },
  {
   "cell_type": "markdown",
   "metadata": {},
   "source": [
    "## 전처리하기"
   ]
  },
  {
   "cell_type": "code",
   "execution_count": 180,
   "metadata": {},
   "outputs": [
    {
     "data": {
      "text/html": [
       "<div>\n",
       "<style scoped>\n",
       "    .dataframe tbody tr th:only-of-type {\n",
       "        vertical-align: middle;\n",
       "    }\n",
       "\n",
       "    .dataframe tbody tr th {\n",
       "        vertical-align: top;\n",
       "    }\n",
       "\n",
       "    .dataframe thead th {\n",
       "        text-align: right;\n",
       "    }\n",
       "</style>\n",
       "<table border=\"1\" class=\"dataframe\">\n",
       "  <thead>\n",
       "    <tr style=\"text-align: right;\">\n",
       "      <th></th>\n",
       "      <th>category</th>\n",
       "      <th>price_raw</th>\n",
       "      <th>data</th>\n",
       "      <th>title</th>\n",
       "    </tr>\n",
       "  </thead>\n",
       "  <tbody>\n",
       "    <tr>\n",
       "      <th>0</th>\n",
       "      <td>Arts Classes For Kids</td>\n",
       "      <td>$40/class</td>\n",
       "      <td>204\\nHow To Make Awesome Animated Movies (Intr...</td>\n",
       "      <td>How To Make Awesome Animated Movies (Intro to ...</td>\n",
       "    </tr>\n",
       "    <tr>\n",
       "      <th>1</th>\n",
       "      <td>Arts Classes For Kids</td>\n",
       "      <td>$7/week</td>\n",
       "      <td>143\\nFlexible Schedule: Smartest Artists: Art ...</td>\n",
       "      <td>Flexible Schedule: Smartest Artists: Art Class...</td>\n",
       "    </tr>\n",
       "    <tr>\n",
       "      <th>2</th>\n",
       "      <td>Arts Classes For Kids</td>\n",
       "      <td>$20/week</td>\n",
       "      <td>113\\nCake Decorating: Beautiful Buttercream Fl...</td>\n",
       "      <td>Cake Decorating: Beautiful Buttercream Flex</td>\n",
       "    </tr>\n",
       "    <tr>\n",
       "      <th>3</th>\n",
       "      <td>Arts Classes For Kids</td>\n",
       "      <td>$15/class</td>\n",
       "      <td>201\\nIntro to Architecture Camp: Designing Mod...</td>\n",
       "      <td>Intro to Architecture Camp: Designing Modern A...</td>\n",
       "    </tr>\n",
       "    <tr>\n",
       "      <th>4</th>\n",
       "      <td>Arts Classes For Kids</td>\n",
       "      <td>$12/week</td>\n",
       "      <td>292\\nMinecraft + Architecture History = AWESOM...</td>\n",
       "      <td>Minecraft + Architecture History = AWESOME! (F...</td>\n",
       "    </tr>\n",
       "  </tbody>\n",
       "</table>\n",
       "</div>"
      ],
      "text/plain": [
       "                category  price_raw  \\\n",
       "0  Arts Classes For Kids  $40/class   \n",
       "1  Arts Classes For Kids    $7/week   \n",
       "2  Arts Classes For Kids   $20/week   \n",
       "3  Arts Classes For Kids  $15/class   \n",
       "4  Arts Classes For Kids   $12/week   \n",
       "\n",
       "                                                data  \\\n",
       "0  204\\nHow To Make Awesome Animated Movies (Intr...   \n",
       "1  143\\nFlexible Schedule: Smartest Artists: Art ...   \n",
       "2  113\\nCake Decorating: Beautiful Buttercream Fl...   \n",
       "3  201\\nIntro to Architecture Camp: Designing Mod...   \n",
       "4  292\\nMinecraft + Architecture History = AWESOM...   \n",
       "\n",
       "                                               title  \n",
       "0  How To Make Awesome Animated Movies (Intro to ...  \n",
       "1  Flexible Schedule: Smartest Artists: Art Class...  \n",
       "2        Cake Decorating: Beautiful Buttercream Flex  \n",
       "3  Intro to Architecture Camp: Designing Modern A...  \n",
       "4  Minecraft + Architecture History = AWESOME! (F...  "
      ]
     },
     "execution_count": 180,
     "metadata": {},
     "output_type": "execute_result"
    }
   ],
   "source": [
    "df['title'] = df['data'].str.split(\"\\n\").str[1]\n",
    "df.head()"
   ]
  },
  {
   "cell_type": "code",
   "execution_count": 181,
   "metadata": {},
   "outputs": [
    {
     "data": {
      "text/html": [
       "<div>\n",
       "<style scoped>\n",
       "    .dataframe tbody tr th:only-of-type {\n",
       "        vertical-align: middle;\n",
       "    }\n",
       "\n",
       "    .dataframe tbody tr th {\n",
       "        vertical-align: top;\n",
       "    }\n",
       "\n",
       "    .dataframe thead th {\n",
       "        text-align: right;\n",
       "    }\n",
       "</style>\n",
       "<table border=\"1\" class=\"dataframe\">\n",
       "  <thead>\n",
       "    <tr style=\"text-align: right;\">\n",
       "      <th></th>\n",
       "      <th>category</th>\n",
       "      <th>price_raw</th>\n",
       "      <th>data</th>\n",
       "      <th>title</th>\n",
       "      <th>review_num</th>\n",
       "    </tr>\n",
       "  </thead>\n",
       "  <tbody>\n",
       "    <tr>\n",
       "      <th>0</th>\n",
       "      <td>Arts Classes For Kids</td>\n",
       "      <td>$40/class</td>\n",
       "      <td>204\\nHow To Make Awesome Animated Movies (Intr...</td>\n",
       "      <td>How To Make Awesome Animated Movies (Intro to ...</td>\n",
       "      <td>204</td>\n",
       "    </tr>\n",
       "    <tr>\n",
       "      <th>1</th>\n",
       "      <td>Arts Classes For Kids</td>\n",
       "      <td>$7/week</td>\n",
       "      <td>143\\nFlexible Schedule: Smartest Artists: Art ...</td>\n",
       "      <td>Flexible Schedule: Smartest Artists: Art Class...</td>\n",
       "      <td>143</td>\n",
       "    </tr>\n",
       "    <tr>\n",
       "      <th>2</th>\n",
       "      <td>Arts Classes For Kids</td>\n",
       "      <td>$20/week</td>\n",
       "      <td>113\\nCake Decorating: Beautiful Buttercream Fl...</td>\n",
       "      <td>Cake Decorating: Beautiful Buttercream Flex</td>\n",
       "      <td>113</td>\n",
       "    </tr>\n",
       "    <tr>\n",
       "      <th>3</th>\n",
       "      <td>Arts Classes For Kids</td>\n",
       "      <td>$15/class</td>\n",
       "      <td>201\\nIntro to Architecture Camp: Designing Mod...</td>\n",
       "      <td>Intro to Architecture Camp: Designing Modern A...</td>\n",
       "      <td>201</td>\n",
       "    </tr>\n",
       "    <tr>\n",
       "      <th>4</th>\n",
       "      <td>Arts Classes For Kids</td>\n",
       "      <td>$12/week</td>\n",
       "      <td>292\\nMinecraft + Architecture History = AWESOM...</td>\n",
       "      <td>Minecraft + Architecture History = AWESOME! (F...</td>\n",
       "      <td>292</td>\n",
       "    </tr>\n",
       "  </tbody>\n",
       "</table>\n",
       "</div>"
      ],
      "text/plain": [
       "                category  price_raw  \\\n",
       "0  Arts Classes For Kids  $40/class   \n",
       "1  Arts Classes For Kids    $7/week   \n",
       "2  Arts Classes For Kids   $20/week   \n",
       "3  Arts Classes For Kids  $15/class   \n",
       "4  Arts Classes For Kids   $12/week   \n",
       "\n",
       "                                                data  \\\n",
       "0  204\\nHow To Make Awesome Animated Movies (Intr...   \n",
       "1  143\\nFlexible Schedule: Smartest Artists: Art ...   \n",
       "2  113\\nCake Decorating: Beautiful Buttercream Fl...   \n",
       "3  201\\nIntro to Architecture Camp: Designing Mod...   \n",
       "4  292\\nMinecraft + Architecture History = AWESOM...   \n",
       "\n",
       "                                               title review_num  \n",
       "0  How To Make Awesome Animated Movies (Intro to ...        204  \n",
       "1  Flexible Schedule: Smartest Artists: Art Class...        143  \n",
       "2        Cake Decorating: Beautiful Buttercream Flex        113  \n",
       "3  Intro to Architecture Camp: Designing Modern A...        201  \n",
       "4  Minecraft + Architecture History = AWESOME! (F...        292  "
      ]
     },
     "execution_count": 181,
     "metadata": {},
     "output_type": "execute_result"
    }
   ],
   "source": [
    "df['review_num'] = df['data'].str.split('\\n').str[0]\n",
    "df.head()"
   ]
  },
  {
   "cell_type": "code",
   "execution_count": 183,
   "metadata": {},
   "outputs": [
    {
     "data": {
      "text/html": [
       "<div>\n",
       "<style scoped>\n",
       "    .dataframe tbody tr th:only-of-type {\n",
       "        vertical-align: middle;\n",
       "    }\n",
       "\n",
       "    .dataframe tbody tr th {\n",
       "        vertical-align: top;\n",
       "    }\n",
       "\n",
       "    .dataframe thead th {\n",
       "        text-align: right;\n",
       "    }\n",
       "</style>\n",
       "<table border=\"1\" class=\"dataframe\">\n",
       "  <thead>\n",
       "    <tr style=\"text-align: right;\">\n",
       "      <th></th>\n",
       "      <th>category</th>\n",
       "      <th>price_raw</th>\n",
       "      <th>data</th>\n",
       "      <th>title</th>\n",
       "      <th>review_num</th>\n",
       "      <th>price($)</th>\n",
       "      <th>price_text</th>\n",
       "    </tr>\n",
       "  </thead>\n",
       "  <tbody>\n",
       "    <tr>\n",
       "      <th>0</th>\n",
       "      <td>Arts Classes For Kids</td>\n",
       "      <td>$40/class</td>\n",
       "      <td>204\\nHow To Make Awesome Animated Movies (Intr...</td>\n",
       "      <td>How To Make Awesome Animated Movies (Intro to ...</td>\n",
       "      <td>204</td>\n",
       "      <td>40</td>\n",
       "      <td>$40/class</td>\n",
       "    </tr>\n",
       "    <tr>\n",
       "      <th>1</th>\n",
       "      <td>Arts Classes For Kids</td>\n",
       "      <td>$7/week</td>\n",
       "      <td>143\\nFlexible Schedule: Smartest Artists: Art ...</td>\n",
       "      <td>Flexible Schedule: Smartest Artists: Art Class...</td>\n",
       "      <td>143</td>\n",
       "      <td>7</td>\n",
       "      <td>$7/week</td>\n",
       "    </tr>\n",
       "    <tr>\n",
       "      <th>2</th>\n",
       "      <td>Arts Classes For Kids</td>\n",
       "      <td>$20/week</td>\n",
       "      <td>113\\nCake Decorating: Beautiful Buttercream Fl...</td>\n",
       "      <td>Cake Decorating: Beautiful Buttercream Flex</td>\n",
       "      <td>113</td>\n",
       "      <td>20</td>\n",
       "      <td>$20/week</td>\n",
       "    </tr>\n",
       "    <tr>\n",
       "      <th>3</th>\n",
       "      <td>Arts Classes For Kids</td>\n",
       "      <td>$15/class</td>\n",
       "      <td>201\\nIntro to Architecture Camp: Designing Mod...</td>\n",
       "      <td>Intro to Architecture Camp: Designing Modern A...</td>\n",
       "      <td>201</td>\n",
       "      <td>15</td>\n",
       "      <td>$15/class</td>\n",
       "    </tr>\n",
       "    <tr>\n",
       "      <th>4</th>\n",
       "      <td>Arts Classes For Kids</td>\n",
       "      <td>$12/week</td>\n",
       "      <td>292\\nMinecraft + Architecture History = AWESOM...</td>\n",
       "      <td>Minecraft + Architecture History = AWESOME! (F...</td>\n",
       "      <td>292</td>\n",
       "      <td>12</td>\n",
       "      <td>$12/week</td>\n",
       "    </tr>\n",
       "  </tbody>\n",
       "</table>\n",
       "</div>"
      ],
      "text/plain": [
       "                category  price_raw  \\\n",
       "0  Arts Classes For Kids  $40/class   \n",
       "1  Arts Classes For Kids    $7/week   \n",
       "2  Arts Classes For Kids   $20/week   \n",
       "3  Arts Classes For Kids  $15/class   \n",
       "4  Arts Classes For Kids   $12/week   \n",
       "\n",
       "                                                data  \\\n",
       "0  204\\nHow To Make Awesome Animated Movies (Intr...   \n",
       "1  143\\nFlexible Schedule: Smartest Artists: Art ...   \n",
       "2  113\\nCake Decorating: Beautiful Buttercream Fl...   \n",
       "3  201\\nIntro to Architecture Camp: Designing Mod...   \n",
       "4  292\\nMinecraft + Architecture History = AWESOM...   \n",
       "\n",
       "                                               title review_num price($)  \\\n",
       "0  How To Make Awesome Animated Movies (Intro to ...        204       40   \n",
       "1  Flexible Schedule: Smartest Artists: Art Class...        143        7   \n",
       "2        Cake Decorating: Beautiful Buttercream Flex        113       20   \n",
       "3  Intro to Architecture Camp: Designing Modern A...        201       15   \n",
       "4  Minecraft + Architecture History = AWESOME! (F...        292       12   \n",
       "\n",
       "  price_text  \n",
       "0  $40/class  \n",
       "1    $7/week  \n",
       "2   $20/week  \n",
       "3  $15/class  \n",
       "4   $12/week  "
      ]
     },
     "execution_count": 183,
     "metadata": {},
     "output_type": "execute_result"
    }
   ],
   "source": [
    "df['price($)'] = df['price_raw'].str.split(\"/\").str[0].str.replace(\"$\", \"\")\n",
    "df['price_text'] = df['price_raw']\n",
    "df.head()"
   ]
  },
  {
   "cell_type": "code",
   "execution_count": 184,
   "metadata": {},
   "outputs": [
    {
     "data": {
      "text/html": [
       "<div>\n",
       "<style scoped>\n",
       "    .dataframe tbody tr th:only-of-type {\n",
       "        vertical-align: middle;\n",
       "    }\n",
       "\n",
       "    .dataframe tbody tr th {\n",
       "        vertical-align: top;\n",
       "    }\n",
       "\n",
       "    .dataframe thead th {\n",
       "        text-align: right;\n",
       "    }\n",
       "</style>\n",
       "<table border=\"1\" class=\"dataframe\">\n",
       "  <thead>\n",
       "    <tr style=\"text-align: right;\">\n",
       "      <th></th>\n",
       "      <th>category</th>\n",
       "      <th>price_raw</th>\n",
       "      <th>data</th>\n",
       "      <th>title</th>\n",
       "      <th>review_num</th>\n",
       "      <th>price($)</th>\n",
       "      <th>price_text</th>\n",
       "      <th>age</th>\n",
       "      <th>age_low</th>\n",
       "      <th>age_high</th>\n",
       "    </tr>\n",
       "  </thead>\n",
       "  <tbody>\n",
       "    <tr>\n",
       "      <th>0</th>\n",
       "      <td>Arts Classes For Kids</td>\n",
       "      <td>$40/class</td>\n",
       "      <td>204\\nHow To Make Awesome Animated Movies (Intr...</td>\n",
       "      <td>How To Make Awesome Animated Movies (Intro to ...</td>\n",
       "      <td>204</td>\n",
       "      <td>40</td>\n",
       "      <td>$40/class</td>\n",
       "      <td>10-15</td>\n",
       "      <td>10</td>\n",
       "      <td>15</td>\n",
       "    </tr>\n",
       "    <tr>\n",
       "      <th>1</th>\n",
       "      <td>Arts Classes For Kids</td>\n",
       "      <td>$7/week</td>\n",
       "      <td>143\\nFlexible Schedule: Smartest Artists: Art ...</td>\n",
       "      <td>Flexible Schedule: Smartest Artists: Art Class...</td>\n",
       "      <td>143</td>\n",
       "      <td>7</td>\n",
       "      <td>$7/week</td>\n",
       "      <td>4-9</td>\n",
       "      <td>4</td>\n",
       "      <td>9</td>\n",
       "    </tr>\n",
       "    <tr>\n",
       "      <th>2</th>\n",
       "      <td>Arts Classes For Kids</td>\n",
       "      <td>$20/week</td>\n",
       "      <td>113\\nCake Decorating: Beautiful Buttercream Fl...</td>\n",
       "      <td>Cake Decorating: Beautiful Buttercream Flex</td>\n",
       "      <td>113</td>\n",
       "      <td>20</td>\n",
       "      <td>$20/week</td>\n",
       "      <td>10-15</td>\n",
       "      <td>10</td>\n",
       "      <td>15</td>\n",
       "    </tr>\n",
       "    <tr>\n",
       "      <th>3</th>\n",
       "      <td>Arts Classes For Kids</td>\n",
       "      <td>$15/class</td>\n",
       "      <td>201\\nIntro to Architecture Camp: Designing Mod...</td>\n",
       "      <td>Intro to Architecture Camp: Designing Modern A...</td>\n",
       "      <td>201</td>\n",
       "      <td>15</td>\n",
       "      <td>$15/class</td>\n",
       "      <td>9-13</td>\n",
       "      <td>9</td>\n",
       "      <td>13</td>\n",
       "    </tr>\n",
       "    <tr>\n",
       "      <th>4</th>\n",
       "      <td>Arts Classes For Kids</td>\n",
       "      <td>$12/week</td>\n",
       "      <td>292\\nMinecraft + Architecture History = AWESOM...</td>\n",
       "      <td>Minecraft + Architecture History = AWESOME! (F...</td>\n",
       "      <td>292</td>\n",
       "      <td>12</td>\n",
       "      <td>$12/week</td>\n",
       "      <td>9-14</td>\n",
       "      <td>9</td>\n",
       "      <td>14</td>\n",
       "    </tr>\n",
       "  </tbody>\n",
       "</table>\n",
       "</div>"
      ],
      "text/plain": [
       "                category  price_raw  \\\n",
       "0  Arts Classes For Kids  $40/class   \n",
       "1  Arts Classes For Kids    $7/week   \n",
       "2  Arts Classes For Kids   $20/week   \n",
       "3  Arts Classes For Kids  $15/class   \n",
       "4  Arts Classes For Kids   $12/week   \n",
       "\n",
       "                                                data  \\\n",
       "0  204\\nHow To Make Awesome Animated Movies (Intr...   \n",
       "1  143\\nFlexible Schedule: Smartest Artists: Art ...   \n",
       "2  113\\nCake Decorating: Beautiful Buttercream Fl...   \n",
       "3  201\\nIntro to Architecture Camp: Designing Mod...   \n",
       "4  292\\nMinecraft + Architecture History = AWESOM...   \n",
       "\n",
       "                                               title review_num price($)  \\\n",
       "0  How To Make Awesome Animated Movies (Intro to ...        204       40   \n",
       "1  Flexible Schedule: Smartest Artists: Art Class...        143        7   \n",
       "2        Cake Decorating: Beautiful Buttercream Flex        113       20   \n",
       "3  Intro to Architecture Camp: Designing Modern A...        201       15   \n",
       "4  Minecraft + Architecture History = AWESOME! (F...        292       12   \n",
       "\n",
       "  price_text    age age_low age_high  \n",
       "0  $40/class  10-15      10       15  \n",
       "1    $7/week    4-9       4        9  \n",
       "2   $20/week  10-15      10       15  \n",
       "3  $15/class   9-13       9       13  \n",
       "4   $12/week   9-14       9       14  "
      ]
     },
     "execution_count": 184,
     "metadata": {},
     "output_type": "execute_result"
    }
   ],
   "source": [
    "# 나이 추출하기\n",
    "\n",
    "df['age'] = df['data'].str.split(\"\\n\").str[2].str.split(\" \").str[1]\n",
    "df['age_low'] = df['age'].str.split(\"-\").str[0]\n",
    "df['age_high'] = df['age'].str.split(\"-\").str[1]\n",
    "df.head()"
   ]
  },
  {
   "cell_type": "code",
   "execution_count": 185,
   "metadata": {},
   "outputs": [
    {
     "data": {
      "text/html": [
       "<div>\n",
       "<style scoped>\n",
       "    .dataframe tbody tr th:only-of-type {\n",
       "        vertical-align: middle;\n",
       "    }\n",
       "\n",
       "    .dataframe tbody tr th {\n",
       "        vertical-align: top;\n",
       "    }\n",
       "\n",
       "    .dataframe thead th {\n",
       "        text-align: right;\n",
       "    }\n",
       "</style>\n",
       "<table border=\"1\" class=\"dataframe\">\n",
       "  <thead>\n",
       "    <tr style=\"text-align: right;\">\n",
       "      <th></th>\n",
       "      <th>category</th>\n",
       "      <th>title</th>\n",
       "      <th>review_num</th>\n",
       "      <th>price($)</th>\n",
       "      <th>price_text</th>\n",
       "      <th>age</th>\n",
       "      <th>age_low</th>\n",
       "      <th>age_high</th>\n",
       "    </tr>\n",
       "  </thead>\n",
       "  <tbody>\n",
       "    <tr>\n",
       "      <th>0</th>\n",
       "      <td>Arts Classes For Kids</td>\n",
       "      <td>How To Make Awesome Animated Movies (Intro to ...</td>\n",
       "      <td>204</td>\n",
       "      <td>40</td>\n",
       "      <td>$40/class</td>\n",
       "      <td>10-15</td>\n",
       "      <td>10</td>\n",
       "      <td>15</td>\n",
       "    </tr>\n",
       "    <tr>\n",
       "      <th>1</th>\n",
       "      <td>Arts Classes For Kids</td>\n",
       "      <td>Flexible Schedule: Smartest Artists: Art Class...</td>\n",
       "      <td>143</td>\n",
       "      <td>7</td>\n",
       "      <td>$7/week</td>\n",
       "      <td>4-9</td>\n",
       "      <td>4</td>\n",
       "      <td>9</td>\n",
       "    </tr>\n",
       "    <tr>\n",
       "      <th>2</th>\n",
       "      <td>Arts Classes For Kids</td>\n",
       "      <td>Cake Decorating: Beautiful Buttercream Flex</td>\n",
       "      <td>113</td>\n",
       "      <td>20</td>\n",
       "      <td>$20/week</td>\n",
       "      <td>10-15</td>\n",
       "      <td>10</td>\n",
       "      <td>15</td>\n",
       "    </tr>\n",
       "    <tr>\n",
       "      <th>3</th>\n",
       "      <td>Arts Classes For Kids</td>\n",
       "      <td>Intro to Architecture Camp: Designing Modern A...</td>\n",
       "      <td>201</td>\n",
       "      <td>15</td>\n",
       "      <td>$15/class</td>\n",
       "      <td>9-13</td>\n",
       "      <td>9</td>\n",
       "      <td>13</td>\n",
       "    </tr>\n",
       "    <tr>\n",
       "      <th>4</th>\n",
       "      <td>Arts Classes For Kids</td>\n",
       "      <td>Minecraft + Architecture History = AWESOME! (F...</td>\n",
       "      <td>292</td>\n",
       "      <td>12</td>\n",
       "      <td>$12/week</td>\n",
       "      <td>9-14</td>\n",
       "      <td>9</td>\n",
       "      <td>14</td>\n",
       "    </tr>\n",
       "  </tbody>\n",
       "</table>\n",
       "</div>"
      ],
      "text/plain": [
       "                category                                              title  \\\n",
       "0  Arts Classes For Kids  How To Make Awesome Animated Movies (Intro to ...   \n",
       "1  Arts Classes For Kids  Flexible Schedule: Smartest Artists: Art Class...   \n",
       "2  Arts Classes For Kids        Cake Decorating: Beautiful Buttercream Flex   \n",
       "3  Arts Classes For Kids  Intro to Architecture Camp: Designing Modern A...   \n",
       "4  Arts Classes For Kids  Minecraft + Architecture History = AWESOME! (F...   \n",
       "\n",
       "  review_num price($) price_text    age age_low age_high  \n",
       "0        204       40  $40/class  10-15      10       15  \n",
       "1        143        7    $7/week    4-9       4        9  \n",
       "2        113       20   $20/week  10-15      10       15  \n",
       "3        201       15  $15/class   9-13       9       13  \n",
       "4        292       12   $12/week   9-14       9       14  "
      ]
     },
     "execution_count": 185,
     "metadata": {},
     "output_type": "execute_result"
    }
   ],
   "source": [
    "# 불필요한 컬럼 삭제\n",
    "\n",
    "df.drop(['price_raw', 'data'], axis=1, inplace=True)\n",
    "df.head()"
   ]
  },
  {
   "cell_type": "code",
   "execution_count": 186,
   "metadata": {},
   "outputs": [],
   "source": [
    "df.to_csv(\"outschool_category_top1000_210208.xlsx\", index=False, header=True)"
   ]
  },
  {
   "cell_type": "markdown",
   "metadata": {},
   "source": [
    "## 카테고리별 전체 크롤링하기"
   ]
  },
  {
   "cell_type": "code",
   "execution_count": 167,
   "metadata": {},
   "outputs": [],
   "source": [
    "# 크롬 브라우저를 열기\n",
    "DRIVER_DIR = '../driver/chromedriver'\n",
    "\n",
    "driver = webdriver.Chrome(DRIVER_DIR)"
   ]
  },
  {
   "cell_type": "code",
   "execution_count": 168,
   "metadata": {},
   "outputs": [
    {
     "name": "stdout",
     "output_type": "stream",
     "text": [
      "well done\n"
     ]
    }
   ],
   "source": [
    "# 목표 페이지 불러오기\n",
    "index = \"https://outschool.com/online-classes/\" \n",
    "\n",
    "#theme_list = [\"arts\"]\n",
    "theme_list = [\"arts\",\"coding-tech\",\"english\",\"health-wellness\",\"life-skills\",\"math\",\"music\",\"science-nature\", \"social-studies\", \"world-languages\"]\n",
    "\n",
    "df = []\n",
    "data = []\n",
    "\n",
    "for i in theme_list:\n",
    "    url = index + i\n",
    "    driver.get(url)\n",
    "    \n",
    "    n=0\n",
    "    while n <= 3:\n",
    "        driver.execute_script(\"window.scrollTo(0, document.body.scrollHeight);\")\n",
    "        time.sleep(0.5)\n",
    "        n = n+1\n",
    "    \n",
    "        # 페이지 로드를 기다림\n",
    "      \n",
    "    time.sleep(10)\n",
    "    \n",
    "    # div 소스 가져오기\n",
    "    theme = driver.find_elements_by_tag_name('h1')[0].text\n",
    "\n",
    "    html = driver.page_source\n",
    "    bsObject = BeautifulSoup(html, 'lxml')\n",
    "    div_classes = bsObject.find_all('div', {'class':'card row'})\n",
    "        \n",
    "        \n",
    "    # 상세 항목 추출하기\n",
    "    for div in div_classes:\n",
    "        try:\n",
    "            title = div.find('div', {'class':'css-xihznx-Flex'}).get_text()  \n",
    "            review_num = div.find('div', {'class':'card-ribbon'}).get_text()        \n",
    "            desc = div.find('div', {'class':'half-space-above flex-centered-row flex-wrap darkgray'}).get_text()\n",
    "        except Exception:\n",
    "            continue\n",
    "            \n",
    "        data.append((theme, title, review_num, desc))\n",
    "        \n",
    "    \n",
    "print('well done')"
   ]
  },
  {
   "cell_type": "code",
   "execution_count": 180,
   "metadata": {},
   "outputs": [],
   "source": [
    "test = []\n",
    "\n",
    "for div in div_classes:\n",
    "    try:\n",
    "        title = div.find('div', {'class':'css-xihznx-Flex'}).get_text()  \n",
    "        review_num = div.find('div', {'class':'card-ribbon'}).get_text()        \n",
    "        desc = div.find('div', {'class':'space-right'}).get_text()\n",
    "    except Exception:\n",
    "        continue\n",
    "            \n",
    "test.append((theme, title, review_num, desc))"
   ]
  },
  {
   "cell_type": "code",
   "execution_count": 181,
   "metadata": {},
   "outputs": [
    {
     "data": {
      "text/plain": [
       "[('World Languages Classes For Kids',\n",
       "  'Japanese phrases for beginners (Ages 7-12)',\n",
       "  '29 reviews',\n",
       "  'Ages 7-12')]"
      ]
     },
     "execution_count": 181,
     "metadata": {},
     "output_type": "execute_result"
    }
   ],
   "source": [
    "test"
   ]
  },
  {
   "cell_type": "code",
   "execution_count": 169,
   "metadata": {},
   "outputs": [
    {
     "data": {
      "text/plain": [
       "(298, 4)"
      ]
     },
     "execution_count": 169,
     "metadata": {},
     "output_type": "execute_result"
    }
   ],
   "source": [
    "# 데이터프레임으로 변환하기\n",
    "\n",
    "df = pd.DataFrame(data)\n",
    "df.columns = ('theme','title','review_num', 'desc')\n",
    "\n",
    "df.shape"
   ]
  },
  {
   "cell_type": "code",
   "execution_count": 170,
   "metadata": {},
   "outputs": [
    {
     "data": {
      "text/plain": [
       "Arts Classes For Kids                 36\n",
       "Social Studies Classes For Kids       36\n",
       "Music Classes For Kids                36\n",
       "Coding & Tech Classes For Kids        36\n",
       "World Languages Classes For Kids      35\n",
       "English Classes For Kids              24\n",
       "Science & Nature Classes For Kids     24\n",
       "Health & Wellness Classes For Kids    24\n",
       "Life Skills Classes For Kids          24\n",
       "Math Classes For Kids                 23\n",
       "Name: theme, dtype: int64"
      ]
     },
     "execution_count": 170,
     "metadata": {},
     "output_type": "execute_result"
    }
   ],
   "source": [
    "df['theme'].value_counts()"
   ]
  },
  {
   "cell_type": "code",
   "execution_count": 171,
   "metadata": {},
   "outputs": [],
   "source": [
    "driver.quit()"
   ]
  },
  {
   "cell_type": "markdown",
   "metadata": {},
   "source": [
    "## 확인 및 전처리"
   ]
  },
  {
   "cell_type": "code",
   "execution_count": 172,
   "metadata": {},
   "outputs": [],
   "source": [
    "df_backup = df"
   ]
  },
  {
   "cell_type": "code",
   "execution_count": 141,
   "metadata": {
    "scrolled": true
   },
   "outputs": [
    {
     "name": "stdout",
     "output_type": "stream",
     "text": [
      "<class 'pandas.core.frame.DataFrame'>\n",
      "RangeIndex: 131 entries, 0 to 130\n",
      "Data columns (total 4 columns):\n",
      " #   Column      Non-Null Count  Dtype \n",
      "---  ------      --------------  ----- \n",
      " 0   theme       131 non-null    object\n",
      " 1   title       131 non-null    object\n",
      " 2   review_num  131 non-null    object\n",
      " 3   desc        131 non-null    object\n",
      "dtypes: object(4)\n",
      "memory usage: 4.2+ KB\n"
     ]
    }
   ],
   "source": [
    "df.info()"
   ]
  },
  {
   "cell_type": "markdown",
   "metadata": {},
   "source": [
    "### 리뷰 숫자 추출하기"
   ]
  },
  {
   "cell_type": "code",
   "execution_count": 173,
   "metadata": {},
   "outputs": [],
   "source": [
    "# only가 들어간 데이터 삭제\n",
    "\n",
    "df = df[df['review_num'].str.contains(\"reviews\")]"
   ]
  },
  {
   "cell_type": "code",
   "execution_count": 174,
   "metadata": {},
   "outputs": [
    {
     "name": "stderr",
     "output_type": "stream",
     "text": [
      "<ipython-input-174-f37db7fa57e7>:1: SettingWithCopyWarning: \n",
      "A value is trying to be set on a copy of a slice from a DataFrame.\n",
      "Try using .loc[row_indexer,col_indexer] = value instead\n",
      "\n",
      "See the caveats in the documentation: https://pandas.pydata.org/pandas-docs/stable/user_guide/indexing.html#returning-a-view-versus-a-copy\n",
      "  df['theme'] = df['theme'].str.split(\"Classes\").str[0]\n"
     ]
    },
    {
     "data": {
      "text/plain": [
       "Arts                  36\n",
       "Coding & Tech         33\n",
       "World Languages       32\n",
       "Social Studies        30\n",
       "Music                 29\n",
       "English               24\n",
       "Science & Nature      23\n",
       "Health & Wellness     22\n",
       "Math                  22\n",
       "Life Skills           18\n",
       "Name: theme, dtype: int64"
      ]
     },
     "execution_count": 174,
     "metadata": {},
     "output_type": "execute_result"
    }
   ],
   "source": [
    "df['theme'] = df['theme'].str.split(\"Classes\").str[0]\n",
    "df['theme'].value_counts()"
   ]
  },
  {
   "cell_type": "code",
   "execution_count": 175,
   "metadata": {
    "scrolled": true
   },
   "outputs": [
    {
     "name": "stderr",
     "output_type": "stream",
     "text": [
      "<ipython-input-175-af48334931cc>:1: SettingWithCopyWarning: \n",
      "A value is trying to be set on a copy of a slice from a DataFrame.\n",
      "Try using .loc[row_indexer,col_indexer] = value instead\n",
      "\n",
      "See the caveats in the documentation: https://pandas.pydata.org/pandas-docs/stable/user_guide/indexing.html#returning-a-view-versus-a-copy\n",
      "  df['review_num2'] = df['review_num'].str.split(\" \").str[0]\n"
     ]
    },
    {
     "data": {
      "text/html": [
       "<div>\n",
       "<style scoped>\n",
       "    .dataframe tbody tr th:only-of-type {\n",
       "        vertical-align: middle;\n",
       "    }\n",
       "\n",
       "    .dataframe tbody tr th {\n",
       "        vertical-align: top;\n",
       "    }\n",
       "\n",
       "    .dataframe thead th {\n",
       "        text-align: right;\n",
       "    }\n",
       "</style>\n",
       "<table border=\"1\" class=\"dataframe\">\n",
       "  <thead>\n",
       "    <tr style=\"text-align: right;\">\n",
       "      <th></th>\n",
       "      <th>theme</th>\n",
       "      <th>title</th>\n",
       "      <th>review_num</th>\n",
       "      <th>desc</th>\n",
       "      <th>review_num2</th>\n",
       "    </tr>\n",
       "  </thead>\n",
       "  <tbody>\n",
       "    <tr>\n",
       "      <th>0</th>\n",
       "      <td>Arts</td>\n",
       "      <td>How To Make Awesome Animated Movies (Intro to ...</td>\n",
       "      <td>203 reviews</td>\n",
       "      <td>Ages 10-155 Weeks, Once per weekThu Feb 18 - M...</td>\n",
       "      <td>203</td>\n",
       "    </tr>\n",
       "    <tr>\n",
       "      <th>1</th>\n",
       "      <td>Arts</td>\n",
       "      <td>Flexible Schedule: Smartest Artists: Art Class...</td>\n",
       "      <td>142 reviews</td>\n",
       "      <td>Ages 4-9Flexible for 12 weeksTue, Feb 2 - Apr 25</td>\n",
       "      <td>142</td>\n",
       "    </tr>\n",
       "    <tr>\n",
       "      <th>2</th>\n",
       "      <td>Arts</td>\n",
       "      <td>Cake Decorating:  Beautiful Buttercream Flex</td>\n",
       "      <td>103 reviews</td>\n",
       "      <td>Ages 10-15Flexible for 4 weeksTue, Feb 2 - Feb 27</td>\n",
       "      <td>103</td>\n",
       "    </tr>\n",
       "    <tr>\n",
       "      <th>3</th>\n",
       "      <td>Arts</td>\n",
       "      <td>Minecraft + Architecture History = AWESOME! (F...</td>\n",
       "      <td>292 reviews</td>\n",
       "      <td>Ages 9-14Flexible for 6 weeksTue, Mar 2 - Apr 12</td>\n",
       "      <td>292</td>\n",
       "    </tr>\n",
       "    <tr>\n",
       "      <th>4</th>\n",
       "      <td>Arts</td>\n",
       "      <td>Descendants #4 Mashup - Themed Dance Class (Ag...</td>\n",
       "      <td>1097 reviews</td>\n",
       "      <td>Ages 6-9Meets OnceSat Feb 27, 8am - 8:55am Seo...</td>\n",
       "      <td>1097</td>\n",
       "    </tr>\n",
       "  </tbody>\n",
       "</table>\n",
       "</div>"
      ],
      "text/plain": [
       "   theme                                              title    review_num  \\\n",
       "0  Arts   How To Make Awesome Animated Movies (Intro to ...   203 reviews   \n",
       "1  Arts   Flexible Schedule: Smartest Artists: Art Class...   142 reviews   \n",
       "2  Arts        Cake Decorating:  Beautiful Buttercream Flex   103 reviews   \n",
       "3  Arts   Minecraft + Architecture History = AWESOME! (F...   292 reviews   \n",
       "4  Arts   Descendants #4 Mashup - Themed Dance Class (Ag...  1097 reviews   \n",
       "\n",
       "                                                desc review_num2  \n",
       "0  Ages 10-155 Weeks, Once per weekThu Feb 18 - M...         203  \n",
       "1   Ages 4-9Flexible for 12 weeksTue, Feb 2 - Apr 25         142  \n",
       "2  Ages 10-15Flexible for 4 weeksTue, Feb 2 - Feb 27         103  \n",
       "3   Ages 9-14Flexible for 6 weeksTue, Mar 2 - Apr 12         292  \n",
       "4  Ages 6-9Meets OnceSat Feb 27, 8am - 8:55am Seo...        1097  "
      ]
     },
     "execution_count": 175,
     "metadata": {},
     "output_type": "execute_result"
    }
   ],
   "source": [
    "df['review_num2'] = df['review_num'].str.split(\" \").str[0]\n",
    "df.head()"
   ]
  },
  {
   "cell_type": "code",
   "execution_count": 176,
   "metadata": {
    "scrolled": true
   },
   "outputs": [
    {
     "name": "stderr",
     "output_type": "stream",
     "text": [
      "<ipython-input-176-7536373be7e8>:2: SettingWithCopyWarning: \n",
      "A value is trying to be set on a copy of a slice from a DataFrame.\n",
      "Try using .loc[row_indexer,col_indexer] = value instead\n",
      "\n",
      "See the caveats in the documentation: https://pandas.pydata.org/pandas-docs/stable/user_guide/indexing.html#returning-a-view-versus-a-copy\n",
      "  df['age_low'] = df['desc'].str.split(\"-\").str[0].str.replace(\"Ages \", \"\")\n"
     ]
    },
    {
     "data": {
      "text/html": [
       "<div>\n",
       "<style scoped>\n",
       "    .dataframe tbody tr th:only-of-type {\n",
       "        vertical-align: middle;\n",
       "    }\n",
       "\n",
       "    .dataframe tbody tr th {\n",
       "        vertical-align: top;\n",
       "    }\n",
       "\n",
       "    .dataframe thead th {\n",
       "        text-align: right;\n",
       "    }\n",
       "</style>\n",
       "<table border=\"1\" class=\"dataframe\">\n",
       "  <thead>\n",
       "    <tr style=\"text-align: right;\">\n",
       "      <th></th>\n",
       "      <th>theme</th>\n",
       "      <th>title</th>\n",
       "      <th>review_num</th>\n",
       "      <th>desc</th>\n",
       "      <th>review_num2</th>\n",
       "      <th>age_low</th>\n",
       "    </tr>\n",
       "  </thead>\n",
       "  <tbody>\n",
       "    <tr>\n",
       "      <th>0</th>\n",
       "      <td>Arts</td>\n",
       "      <td>How To Make Awesome Animated Movies (Intro to ...</td>\n",
       "      <td>203 reviews</td>\n",
       "      <td>Ages 10-155 Weeks, Once per weekThu Feb 18 - M...</td>\n",
       "      <td>203</td>\n",
       "      <td>10</td>\n",
       "    </tr>\n",
       "    <tr>\n",
       "      <th>1</th>\n",
       "      <td>Arts</td>\n",
       "      <td>Flexible Schedule: Smartest Artists: Art Class...</td>\n",
       "      <td>142 reviews</td>\n",
       "      <td>Ages 4-9Flexible for 12 weeksTue, Feb 2 - Apr 25</td>\n",
       "      <td>142</td>\n",
       "      <td>4</td>\n",
       "    </tr>\n",
       "    <tr>\n",
       "      <th>2</th>\n",
       "      <td>Arts</td>\n",
       "      <td>Cake Decorating:  Beautiful Buttercream Flex</td>\n",
       "      <td>103 reviews</td>\n",
       "      <td>Ages 10-15Flexible for 4 weeksTue, Feb 2 - Feb 27</td>\n",
       "      <td>103</td>\n",
       "      <td>10</td>\n",
       "    </tr>\n",
       "    <tr>\n",
       "      <th>3</th>\n",
       "      <td>Arts</td>\n",
       "      <td>Minecraft + Architecture History = AWESOME! (F...</td>\n",
       "      <td>292 reviews</td>\n",
       "      <td>Ages 9-14Flexible for 6 weeksTue, Mar 2 - Apr 12</td>\n",
       "      <td>292</td>\n",
       "      <td>9</td>\n",
       "    </tr>\n",
       "    <tr>\n",
       "      <th>4</th>\n",
       "      <td>Arts</td>\n",
       "      <td>Descendants #4 Mashup - Themed Dance Class (Ag...</td>\n",
       "      <td>1097 reviews</td>\n",
       "      <td>Ages 6-9Meets OnceSat Feb 27, 8am - 8:55am Seo...</td>\n",
       "      <td>1097</td>\n",
       "      <td>6</td>\n",
       "    </tr>\n",
       "  </tbody>\n",
       "</table>\n",
       "</div>"
      ],
      "text/plain": [
       "   theme                                              title    review_num  \\\n",
       "0  Arts   How To Make Awesome Animated Movies (Intro to ...   203 reviews   \n",
       "1  Arts   Flexible Schedule: Smartest Artists: Art Class...   142 reviews   \n",
       "2  Arts        Cake Decorating:  Beautiful Buttercream Flex   103 reviews   \n",
       "3  Arts   Minecraft + Architecture History = AWESOME! (F...   292 reviews   \n",
       "4  Arts   Descendants #4 Mashup - Themed Dance Class (Ag...  1097 reviews   \n",
       "\n",
       "                                                desc review_num2 age_low  \n",
       "0  Ages 10-155 Weeks, Once per weekThu Feb 18 - M...         203      10  \n",
       "1   Ages 4-9Flexible for 12 weeksTue, Feb 2 - Apr 25         142       4  \n",
       "2  Ages 10-15Flexible for 4 weeksTue, Feb 2 - Feb 27         103      10  \n",
       "3   Ages 9-14Flexible for 6 weeksTue, Mar 2 - Apr 12         292       9  \n",
       "4  Ages 6-9Meets OnceSat Feb 27, 8am - 8:55am Seo...        1097       6  "
      ]
     },
     "execution_count": 176,
     "metadata": {},
     "output_type": "execute_result"
    }
   ],
   "source": [
    "# 최소 시작나이\n",
    "df['age_low'] = df['desc'].str.split(\"-\").str[0].str.replace(\"Ages \", \"\")\n",
    "df.head()"
   ]
  },
  {
   "cell_type": "code",
   "execution_count": 182,
   "metadata": {},
   "outputs": [
    {
     "data": {
      "text/html": [
       "<div>\n",
       "<style scoped>\n",
       "    .dataframe tbody tr th:only-of-type {\n",
       "        vertical-align: middle;\n",
       "    }\n",
       "\n",
       "    .dataframe tbody tr th {\n",
       "        vertical-align: top;\n",
       "    }\n",
       "\n",
       "    .dataframe thead th {\n",
       "        text-align: right;\n",
       "    }\n",
       "</style>\n",
       "<table border=\"1\" class=\"dataframe\">\n",
       "  <thead>\n",
       "    <tr style=\"text-align: right;\">\n",
       "      <th></th>\n",
       "      <th>theme</th>\n",
       "      <th>title</th>\n",
       "      <th>review_num</th>\n",
       "      <th>desc</th>\n",
       "      <th>review_num2</th>\n",
       "      <th>age_low</th>\n",
       "    </tr>\n",
       "  </thead>\n",
       "  <tbody>\n",
       "    <tr>\n",
       "      <th>0</th>\n",
       "      <td>Arts</td>\n",
       "      <td>How To Make Awesome Animated Movies (Intro to ...</td>\n",
       "      <td>203 reviews</td>\n",
       "      <td>Ages 10-155 Weeks, Once per weekThu Feb 18 - M...</td>\n",
       "      <td>203</td>\n",
       "      <td>10</td>\n",
       "    </tr>\n",
       "    <tr>\n",
       "      <th>1</th>\n",
       "      <td>Arts</td>\n",
       "      <td>Flexible Schedule: Smartest Artists: Art Class...</td>\n",
       "      <td>142 reviews</td>\n",
       "      <td>Ages 4-9Flexible for 12 weeksTue, Feb 2 - Apr 25</td>\n",
       "      <td>142</td>\n",
       "      <td>4</td>\n",
       "    </tr>\n",
       "    <tr>\n",
       "      <th>2</th>\n",
       "      <td>Arts</td>\n",
       "      <td>Cake Decorating:  Beautiful Buttercream Flex</td>\n",
       "      <td>103 reviews</td>\n",
       "      <td>Ages 10-15Flexible for 4 weeksTue, Feb 2 - Feb 27</td>\n",
       "      <td>103</td>\n",
       "      <td>10</td>\n",
       "    </tr>\n",
       "    <tr>\n",
       "      <th>3</th>\n",
       "      <td>Arts</td>\n",
       "      <td>Minecraft + Architecture History = AWESOME! (F...</td>\n",
       "      <td>292 reviews</td>\n",
       "      <td>Ages 9-14Flexible for 6 weeksTue, Mar 2 - Apr 12</td>\n",
       "      <td>292</td>\n",
       "      <td>9</td>\n",
       "    </tr>\n",
       "    <tr>\n",
       "      <th>4</th>\n",
       "      <td>Arts</td>\n",
       "      <td>Descendants #4 Mashup - Themed Dance Class (Ag...</td>\n",
       "      <td>1097 reviews</td>\n",
       "      <td>Ages 6-9Meets OnceSat Feb 27, 8am - 8:55am Seo...</td>\n",
       "      <td>1097</td>\n",
       "      <td>6</td>\n",
       "    </tr>\n",
       "  </tbody>\n",
       "</table>\n",
       "</div>"
      ],
      "text/plain": [
       "   theme                                              title    review_num  \\\n",
       "0  Arts   How To Make Awesome Animated Movies (Intro to ...   203 reviews   \n",
       "1  Arts   Flexible Schedule: Smartest Artists: Art Class...   142 reviews   \n",
       "2  Arts        Cake Decorating:  Beautiful Buttercream Flex   103 reviews   \n",
       "3  Arts   Minecraft + Architecture History = AWESOME! (F...   292 reviews   \n",
       "4  Arts   Descendants #4 Mashup - Themed Dance Class (Ag...  1097 reviews   \n",
       "\n",
       "                                                desc review_num2 age_low  \n",
       "0  Ages 10-155 Weeks, Once per weekThu Feb 18 - M...         203      10  \n",
       "1   Ages 4-9Flexible for 12 weeksTue, Feb 2 - Apr 25         142       4  \n",
       "2  Ages 10-15Flexible for 4 weeksTue, Feb 2 - Feb 27         103      10  \n",
       "3   Ages 9-14Flexible for 6 weeksTue, Mar 2 - Apr 12         292       9  \n",
       "4  Ages 6-9Meets OnceSat Feb 27, 8am - 8:55am Seo...        1097       6  "
      ]
     },
     "execution_count": 182,
     "metadata": {},
     "output_type": "execute_result"
    }
   ],
   "source": [
    "df.head()"
   ]
  },
  {
   "cell_type": "markdown",
   "metadata": {},
   "source": [
    "### 분석하기"
   ]
  },
  {
   "cell_type": "code",
   "execution_count": 156,
   "metadata": {},
   "outputs": [
    {
     "name": "stdout",
     "output_type": "stream",
     "text": [
      "<class 'pandas.core.frame.DataFrame'>\n",
      "Int64Index: 116 entries, 0 to 129\n",
      "Data columns (total 6 columns):\n",
      " #   Column       Non-Null Count  Dtype \n",
      "---  ------       --------------  ----- \n",
      " 0   theme        116 non-null    object\n",
      " 1   title        116 non-null    object\n",
      " 2   review_num   116 non-null    object\n",
      " 3   desc         116 non-null    object\n",
      " 4   review_num2  116 non-null    int64 \n",
      " 5   age_low      116 non-null    int64 \n",
      "dtypes: int64(2), object(4)\n",
      "memory usage: 11.3+ KB\n"
     ]
    }
   ],
   "source": [
    "df.info()"
   ]
  },
  {
   "cell_type": "code",
   "execution_count": 183,
   "metadata": {},
   "outputs": [
    {
     "name": "stderr",
     "output_type": "stream",
     "text": [
      "<ipython-input-183-2e2e794f20e6>:2: SettingWithCopyWarning: \n",
      "A value is trying to be set on a copy of a slice from a DataFrame.\n",
      "Try using .loc[row_indexer,col_indexer] = value instead\n",
      "\n",
      "See the caveats in the documentation: https://pandas.pydata.org/pandas-docs/stable/user_guide/indexing.html#returning-a-view-versus-a-copy\n",
      "  df['review_num2'] = pd.to_numeric(df['review_num2'])\n",
      "<ipython-input-183-2e2e794f20e6>:3: SettingWithCopyWarning: \n",
      "A value is trying to be set on a copy of a slice from a DataFrame.\n",
      "Try using .loc[row_indexer,col_indexer] = value instead\n",
      "\n",
      "See the caveats in the documentation: https://pandas.pydata.org/pandas-docs/stable/user_guide/indexing.html#returning-a-view-versus-a-copy\n",
      "  df['age_low'] = pd.to_numeric(df['age_low'])\n"
     ]
    }
   ],
   "source": [
    "# 숫자형으로 변환하기\n",
    "df['review_num2'] = pd.to_numeric(df['review_num2'])\n",
    "df['age_low'] = pd.to_numeric(df['age_low'])"
   ]
  },
  {
   "cell_type": "code",
   "execution_count": 184,
   "metadata": {},
   "outputs": [
    {
     "data": {
      "text/plain": [
       "theme\n",
       "Arts                  239.583333\n",
       "Coding & Tech         138.060606\n",
       "English               169.125000\n",
       "Health & Wellness     115.181818\n",
       "Life Skills           242.611111\n",
       "Math                   85.409091\n",
       "Music                  83.758621\n",
       "Science & Nature      237.217391\n",
       "Social Studies         66.233333\n",
       "World Languages        47.218750\n",
       "Name: review_num2, dtype: float64"
      ]
     },
     "execution_count": 184,
     "metadata": {},
     "output_type": "execute_result"
    }
   ],
   "source": [
    "df['review_num2'].groupby(df['theme']).mean()"
   ]
  },
  {
   "cell_type": "code",
   "execution_count": 185,
   "metadata": {},
   "outputs": [
    {
     "data": {
      "text/plain": [
       "theme\n",
       "Arts                  8.305556\n",
       "Coding & Tech         8.727273\n",
       "English               9.250000\n",
       "Health & Wellness     6.227273\n",
       "Life Skills           8.611111\n",
       "Math                  8.227273\n",
       "Music                 7.413793\n",
       "Science & Nature      8.739130\n",
       "Social Studies        9.266667\n",
       "World Languages       7.781250\n",
       "Name: age_low, dtype: float64"
      ]
     },
     "execution_count": 185,
     "metadata": {},
     "output_type": "execute_result"
    }
   ],
   "source": [
    "# 연령대\n",
    "df['age_low'].groupby(df['theme']).mean()"
   ]
  },
  {
   "cell_type": "code",
   "execution_count": 159,
   "metadata": {},
   "outputs": [],
   "source": [
    "import seaborn as sns"
   ]
  },
  {
   "cell_type": "code",
   "execution_count": 165,
   "metadata": {},
   "outputs": [
    {
     "data": {
      "image/png": "[encoded data removed]",
      "text/plain": [
       "<Figure size 1440x288 with 1 Axes>"
      ]
     },
     "metadata": {
      "needs_background": "light"
     },
     "output_type": "display_data"
    }
   ],
   "source": [
    "g = sns.violinplot(x=\"theme\", y=\"age_low\", data=df)\n",
    "g.figure.set_figwidth(20)"
   ]
  },
  {
   "cell_type": "code",
   "execution_count": 186,
   "metadata": {},
   "outputs": [
    {
     "data": {
      "image/png": "[encoded data removed]",
      "text/plain": [
       "<Figure size 1440x288 with 1 Axes>"
      ]
     },
     "metadata": {
      "needs_background": "light"
     },
     "output_type": "display_data"
    }
   ],
   "source": [
    "g = sns.violinplot(x=\"theme\", y=\"age_low\", data=df)\n",
    "g.figure.set_figwidth(20)\n"
   ]
  },
  {
   "cell_type": "code",
   "execution_count": 195,
   "metadata": {},
   "outputs": [],
   "source": [
    "# 파일로 저장하기\n",
    "df.to_excel(\"outschool_list.xlsx\", index=False, header=False)\n",
    "df.to_csv(\"outschool_list.csv\", index=False, header=False)"
   ]
  },
  {
   "cell_type": "code",
   "execution_count": 56,
   "metadata": {},
   "outputs": [],
   "source": [
    "# 드라이버 종료\n",
    "chrome.quit()"
   ]
  }
 ],
 "metadata": {
  "kernelspec": {
   "display_name": "Python 3",
   "language": "python",
   "name": "python3"
  },
  "language_info": {
   "codemirror_mode": {
    "name": "ipython",
    "version": 3
   },
   "file_extension": ".py",
   "mimetype": "text/x-python",
   "name": "python",
   "nbconvert_exporter": "python",
   "pygments_lexer": "ipython3",
   "version": "3.8.5"
  }
 },
 "nbformat": 4,
 "nbformat_minor": 4
}
